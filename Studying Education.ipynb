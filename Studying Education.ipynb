{
 "cells": [
  {
   "cell_type": "markdown",
   "id": "3634323e-c2ec-45d8-a77b-b80c06d00c9e",
   "metadata": {},
   "source": [
    "## Getting started with the data science ecosystem\n",
    "#### Authors: Ahmad Opeyemi ZUBAIR, Sara IZADI, Tiwalade OYEBODE, Al-Mu'tez Billah AL-SQOUR\n",
    "\n",
    "### 1.   Objective\n",
    "\n",
    "Get acquainted with the data science ecosystem by exploring tabular data\n",
    "and using functions for sorting, ranking and plotting its content and\n",
    "thereby understanding a data collection content.\n",
    "\n",
    "### 2.   Material\n",
    "\n",
    "-   Jupyter Notebook Server.\n",
    "-   Python Libraries.\n",
    "-   Data Collection: “csv”\n",
    "\n",
    "### 3.   Importing necessary libraries\n",
    "\n",
    "Let us begin by importing those toolboxes that we will need for our\n",
    "program. In the first cell we put the code to import the *Pandas*\n",
    "library as pd. This is for convenience; every time we need to use some\n",
    "functionality from the Pandas library, we will write pd instead of\n",
    "pandas. We will also import the two core libraries: the numpylibrary as\n",
    "np and the matplotliblibrary as plt."
   ]
  },
  {
   "cell_type": "code",
   "execution_count": 115,
   "id": "e4622355-ec33-4a7b-b8d9-ff1c945f7b15",
   "metadata": {},
   "outputs": [],
   "source": [
    "import pandas as pd\n",
    "import numpy as np\n",
    "import matplotlib.pyplot as plt"
   ]
  },
  {
   "cell_type": "markdown",
   "id": "0a94569e-6e62-424f-9678-fe95d43b8b0c",
   "metadata": {},
   "source": [
    "Once the execution is finished, the header of the cell will be replaced\n",
    "by the next number of executions.\n",
    "\n",
    "### 4. The DataFrameData Structure\n",
    "\n",
    "The key data structure in Pandas is the DataFrameobject. A DataFrameis a\n",
    "tabular data structure, with rows and columns. Rows have a specific\n",
    "index to access them, which can be any name or value. In Pandas, the\n",
    "columns are called Series, a special type of data, which consists of a\n",
    "list of several values, where each value has an index.\n",
    "\n",
    "Therefore, the DataFramedata structure can be seen as a spreadsheet, but\n",
    "it is much more flexible. To understand how it works, let us see how to\n",
    "create a DataFrame from a common Python dictionary of lists. First, we\n",
    "will create a new cell by clicking Insert Cell Belowor pressing the keys\n",
    "Ctrl + B. Then, we write in the following code:"
   ]
  },
  {
   "cell_type": "code",
   "execution_count": 116,
   "id": "31bdf8ab-26bc-4061-adda-9e8227c35ec5",
   "metadata": {},
   "outputs": [],
   "source": [
    "data = {\n",
    "'year': [2010, 2011, 2012,\n",
    "2010, 2011, 2012,\n",
    "2010, 2011, 2012],\n",
    "'team': ['FCBarcelona', 'FCBarcelona', 'FCBarcelona',\n",
    "'RMadrid', 'RMadrid', 'RMadrid',\n",
    "'ValenciaCF', 'ValenciaCF', 'ValenciaCF'],\n",
    "'wins': [30, 28, 32, 29, 32, 26, 21, 17, 19],\n",
    "'draws': [6, 7, 4, 5, 4, 7, 8, 10, 8],\n",
    "'losses': [2, 3, 2, 4, 2, 5, 9, 11, 11]\n",
    "}\n",
    "\n",
    "football = pd.DataFrame(data, columns = ['year', 'team', 'wins', 'draws', 'losses'])"
   ]
  },
  {
   "cell_type": "markdown",
   "id": "cb7ff36e-8176-41e3-92de-33367b4025a0",
   "metadata": {},
   "source": [
    "In this example, we use the pandas DataFrameobject constructor with a\n",
    "dictionary of lists as argument. The value of each entry in the\n",
    "dictionary is the name of the column, and the lists are their values.\n",
    "\n",
    "The DataFrame columns can be arranged at construction time by entering a\n",
    "key- word columns with a list of the names of the columns ordered as we\n",
    "want. If the column keyword is not present in the constructor, the\n",
    "columns will be arranged in alphabetical order. Each entry in the\n",
    "dictionary is a column. The index of each row is created automatically\n",
    "taking the position of its elements inside the entry lists, starting\n",
    "from 0.\n",
    "\n",
    "### 5.   To Do and To Hand In\n",
    "\n",
    "-   Go through the exercise and execute the functions that help you\n",
    "    explore the content of the data collection.\n",
    "-   **Add markdown cells in your Kaggle notebook** comment your results\n",
    "    and answer the questions stated in blue within the exercice (include\n",
    "    the question in your markdown cell). \n",
    "-   Download your notebook. Share it in your personal shared folder (as\n",
    "    previous material) and share the link\n",
    "    [here](https://docs.google.com/spreadsheets/d/1X0b_mVOf1ot8dkB3nh-f6YLg0VIpA-TaplSyjIyoWy4/edit?usp=sharing) (column\n",
    "    HO-1).\n",
    "\n",
    "### 6.   Playing with the Education and training data\n",
    "\n",
    "This exercise us based on a Eurostat data collection, used to process\n",
    "and publish comparable statistical information at the European level.\n",
    "The data in Eurostat are provided by each member state and it is free to\n",
    "reuse them, for both noncommercial and commercial purposes (with some\n",
    "minor exceptions).\n",
    "\n",
    "Since the amount of data in the Eurostat database is huge, in our first\n",
    "study we only focus on data relative to indicators of educational\n",
    "funding by the member states. Thus, the first thing to do is to retrieve\n",
    "such data from Eurostat. Since open data have to be delivered in a plain\n",
    "text format, CSV (or any other delimiter-separated value) formats are\n",
    "used to store tabular data. In a delimiter-separated value file, each\n",
    "line is a data record and each record consists in one or more fields,\n",
    "separated by the delimiter character (usually a comma). The data\n",
    "collection used in this exercise can be found already processed at the\n",
    "Data Science book’s Github repository as educ_figdp_1\\_Data.csvfile.\n",
    "\n",
    "### 6.1  Reading data\n",
    "\n",
    "Let us start reading the educ_figdp_1\\_Data.csv file stored in the\n",
    "**same directory**as your notebook directory. Write the following code\n",
    "to read and show the content:"
   ]
  },
  {
   "cell_type": "code",
   "execution_count": 117,
   "id": "0ef1fb2f-766f-4067-87ab-59a9eb7290ea",
   "metadata": {},
   "outputs": [
    {
     "data": {
      "text/html": [
       "<div>\n",
       "<style scoped>\n",
       "    .dataframe tbody tr th:only-of-type {\n",
       "        vertical-align: middle;\n",
       "    }\n",
       "\n",
       "    .dataframe tbody tr th {\n",
       "        vertical-align: top;\n",
       "    }\n",
       "\n",
       "    .dataframe thead th {\n",
       "        text-align: right;\n",
       "    }\n",
       "</style>\n",
       "<table border=\"1\" class=\"dataframe\">\n",
       "  <thead>\n",
       "    <tr style=\"text-align: right;\">\n",
       "      <th></th>\n",
       "      <th>TIME</th>\n",
       "      <th>GEO</th>\n",
       "      <th>Value</th>\n",
       "    </tr>\n",
       "  </thead>\n",
       "  <tbody>\n",
       "    <tr>\n",
       "      <th>0</th>\n",
       "      <td>2000</td>\n",
       "      <td>European Union (28 countries)</td>\n",
       "      <td>NaN</td>\n",
       "    </tr>\n",
       "    <tr>\n",
       "      <th>1</th>\n",
       "      <td>2001</td>\n",
       "      <td>European Union (28 countries)</td>\n",
       "      <td>NaN</td>\n",
       "    </tr>\n",
       "    <tr>\n",
       "      <th>2</th>\n",
       "      <td>2002</td>\n",
       "      <td>European Union (28 countries)</td>\n",
       "      <td>5.00</td>\n",
       "    </tr>\n",
       "    <tr>\n",
       "      <th>3</th>\n",
       "      <td>2003</td>\n",
       "      <td>European Union (28 countries)</td>\n",
       "      <td>5.03</td>\n",
       "    </tr>\n",
       "    <tr>\n",
       "      <th>4</th>\n",
       "      <td>2004</td>\n",
       "      <td>European Union (28 countries)</td>\n",
       "      <td>4.95</td>\n",
       "    </tr>\n",
       "    <tr>\n",
       "      <th>...</th>\n",
       "      <td>...</td>\n",
       "      <td>...</td>\n",
       "      <td>...</td>\n",
       "    </tr>\n",
       "    <tr>\n",
       "      <th>379</th>\n",
       "      <td>2007</td>\n",
       "      <td>Finland</td>\n",
       "      <td>5.90</td>\n",
       "    </tr>\n",
       "    <tr>\n",
       "      <th>380</th>\n",
       "      <td>2008</td>\n",
       "      <td>Finland</td>\n",
       "      <td>6.10</td>\n",
       "    </tr>\n",
       "    <tr>\n",
       "      <th>381</th>\n",
       "      <td>2009</td>\n",
       "      <td>Finland</td>\n",
       "      <td>6.81</td>\n",
       "    </tr>\n",
       "    <tr>\n",
       "      <th>382</th>\n",
       "      <td>2010</td>\n",
       "      <td>Finland</td>\n",
       "      <td>6.85</td>\n",
       "    </tr>\n",
       "    <tr>\n",
       "      <th>383</th>\n",
       "      <td>2011</td>\n",
       "      <td>Finland</td>\n",
       "      <td>6.76</td>\n",
       "    </tr>\n",
       "  </tbody>\n",
       "</table>\n",
       "<p>384 rows × 3 columns</p>\n",
       "</div>"
      ],
      "text/plain": [
       "     TIME                            GEO  Value\n",
       "0    2000  European Union (28 countries)    NaN\n",
       "1    2001  European Union (28 countries)    NaN\n",
       "2    2002  European Union (28 countries)   5.00\n",
       "3    2003  European Union (28 countries)   5.03\n",
       "4    2004  European Union (28 countries)   4.95\n",
       "..    ...                            ...    ...\n",
       "379  2007                        Finland   5.90\n",
       "380  2008                        Finland   6.10\n",
       "381  2009                        Finland   6.81\n",
       "382  2010                        Finland   6.85\n",
       "383  2011                        Finland   6.76\n",
       "\n",
       "[384 rows x 3 columns]"
      ]
     },
     "execution_count": 117,
     "metadata": {},
     "output_type": "execute_result"
    }
   ],
   "source": [
    "edu = pd.read_csv('files/ch02/educ_figdp_1_Data.csv', na_values=':', usecols=['TIME', 'GEO', 'Value'])\n",
    "edu"
   ]
  },
  {
   "cell_type": "markdown",
   "id": "1595eee3-f3ea-452b-8ea8-69602821984d",
   "metadata": {},
   "source": [
    "The way to read CSV (or any other separated value, providing the\n",
    "separator character) files in Pandas is by calling the method read_csv.\n",
    "Besides the name of the file, we add the key argument na_values to this\n",
    "method along with the character that represents “non available data” in\n",
    "the file.\n",
    "\n",
    "Normally, CSV files have a header with the names of the columns. If this\n",
    "is the case, we can use the usecolsparameter to select which columns in\n",
    "the file will be used.\n",
    "\n",
    "In this case, the DataFrame resulting from reading our data is stored in\n",
    "edu."
   ]
  },
  {
   "cell_type": "markdown",
   "id": "880047c8-81d1-4456-a696-9b16f1d2d8f2",
   "metadata": {},
   "source": [
    "### Question 1.  \n",
    "What is the size of the edu dataframe?\n",
    "\n",
    "**Answer:** 384 rows X 3 columns. We can get this information by printing the dataset or by using the attribute `.shape` as shown below. "
   ]
  },
  {
   "cell_type": "code",
   "execution_count": 118,
   "id": "eb53c531-3e55-4755-a99b-5cc6532b7d28",
   "metadata": {},
   "outputs": [
    {
     "data": {
      "text/plain": [
       "(384, 3)"
      ]
     },
     "execution_count": 118,
     "metadata": {},
     "output_type": "execute_result"
    }
   ],
   "source": [
    "edu.shape"
   ]
  },
  {
   "cell_type": "markdown",
   "id": "3a88d46c-448e-40b1-a027-1d2fa1d83fe6",
   "metadata": {},
   "source": [
    "Since the DataFrameis too large to be fully displayed, three dots appear\n",
    "in the middle of each row.\n",
    "\n",
    "To see how the data looks, we can use the method head(), which shows\n",
    "just the first five rows."
   ]
  },
  {
   "cell_type": "code",
   "execution_count": 119,
   "id": "160033e6-5494-480c-84ad-2dcf2ed2c870",
   "metadata": {},
   "outputs": [
    {
     "data": {
      "text/html": [
       "<div>\n",
       "<style scoped>\n",
       "    .dataframe tbody tr th:only-of-type {\n",
       "        vertical-align: middle;\n",
       "    }\n",
       "\n",
       "    .dataframe tbody tr th {\n",
       "        vertical-align: top;\n",
       "    }\n",
       "\n",
       "    .dataframe thead th {\n",
       "        text-align: right;\n",
       "    }\n",
       "</style>\n",
       "<table border=\"1\" class=\"dataframe\">\n",
       "  <thead>\n",
       "    <tr style=\"text-align: right;\">\n",
       "      <th></th>\n",
       "      <th>TIME</th>\n",
       "      <th>GEO</th>\n",
       "      <th>Value</th>\n",
       "    </tr>\n",
       "  </thead>\n",
       "  <tbody>\n",
       "    <tr>\n",
       "      <th>0</th>\n",
       "      <td>2000</td>\n",
       "      <td>European Union (28 countries)</td>\n",
       "      <td>NaN</td>\n",
       "    </tr>\n",
       "    <tr>\n",
       "      <th>1</th>\n",
       "      <td>2001</td>\n",
       "      <td>European Union (28 countries)</td>\n",
       "      <td>NaN</td>\n",
       "    </tr>\n",
       "    <tr>\n",
       "      <th>2</th>\n",
       "      <td>2002</td>\n",
       "      <td>European Union (28 countries)</td>\n",
       "      <td>5.00</td>\n",
       "    </tr>\n",
       "    <tr>\n",
       "      <th>3</th>\n",
       "      <td>2003</td>\n",
       "      <td>European Union (28 countries)</td>\n",
       "      <td>5.03</td>\n",
       "    </tr>\n",
       "    <tr>\n",
       "      <th>4</th>\n",
       "      <td>2004</td>\n",
       "      <td>European Union (28 countries)</td>\n",
       "      <td>4.95</td>\n",
       "    </tr>\n",
       "  </tbody>\n",
       "</table>\n",
       "</div>"
      ],
      "text/plain": [
       "   TIME                            GEO  Value\n",
       "0  2000  European Union (28 countries)    NaN\n",
       "1  2001  European Union (28 countries)    NaN\n",
       "2  2002  European Union (28 countries)   5.00\n",
       "3  2003  European Union (28 countries)   5.03\n",
       "4  2004  European Union (28 countries)   4.95"
      ]
     },
     "execution_count": 119,
     "metadata": {},
     "output_type": "execute_result"
    }
   ],
   "source": [
    "edu.head()"
   ]
  },
  {
   "cell_type": "markdown",
   "id": "f5d78629-5123-4a02-943f-491e3183d126",
   "metadata": {},
   "source": [
    "### Question 2.  \n",
    "What happens if we give a number as argument to the method head()  \n",
    "\n",
    "**Answer**: Instead of the default 5 rows, the method returns the specified number of rows corresponding to the given argument and starting from the top of the dataset. An example is given below. "
   ]
  },
  {
   "cell_type": "code",
   "execution_count": 120,
   "id": "c8e3332c-5375-4e79-a09c-bde52ab758c8",
   "metadata": {},
   "outputs": [
    {
     "data": {
      "text/html": [
       "<div>\n",
       "<style scoped>\n",
       "    .dataframe tbody tr th:only-of-type {\n",
       "        vertical-align: middle;\n",
       "    }\n",
       "\n",
       "    .dataframe tbody tr th {\n",
       "        vertical-align: top;\n",
       "    }\n",
       "\n",
       "    .dataframe thead th {\n",
       "        text-align: right;\n",
       "    }\n",
       "</style>\n",
       "<table border=\"1\" class=\"dataframe\">\n",
       "  <thead>\n",
       "    <tr style=\"text-align: right;\">\n",
       "      <th></th>\n",
       "      <th>TIME</th>\n",
       "      <th>GEO</th>\n",
       "      <th>Value</th>\n",
       "    </tr>\n",
       "  </thead>\n",
       "  <tbody>\n",
       "    <tr>\n",
       "      <th>0</th>\n",
       "      <td>2000</td>\n",
       "      <td>European Union (28 countries)</td>\n",
       "      <td>NaN</td>\n",
       "    </tr>\n",
       "    <tr>\n",
       "      <th>1</th>\n",
       "      <td>2001</td>\n",
       "      <td>European Union (28 countries)</td>\n",
       "      <td>NaN</td>\n",
       "    </tr>\n",
       "    <tr>\n",
       "      <th>2</th>\n",
       "      <td>2002</td>\n",
       "      <td>European Union (28 countries)</td>\n",
       "      <td>5.0</td>\n",
       "    </tr>\n",
       "  </tbody>\n",
       "</table>\n",
       "</div>"
      ],
      "text/plain": [
       "   TIME                            GEO  Value\n",
       "0  2000  European Union (28 countries)    NaN\n",
       "1  2001  European Union (28 countries)    NaN\n",
       "2  2002  European Union (28 countries)    5.0"
      ]
     },
     "execution_count": 120,
     "metadata": {},
     "output_type": "execute_result"
    }
   ],
   "source": [
    "edu.head(3)"
   ]
  },
  {
   "cell_type": "markdown",
   "id": "f5672a6f-4977-48ee-970e-83dccf88941b",
   "metadata": {},
   "source": [
    "Similarly, it exists the method tail()."
   ]
  },
  {
   "cell_type": "code",
   "execution_count": 121,
   "id": "2c0a2960-967f-44e7-bcea-5509a9a35c46",
   "metadata": {},
   "outputs": [
    {
     "data": {
      "text/html": [
       "<div>\n",
       "<style scoped>\n",
       "    .dataframe tbody tr th:only-of-type {\n",
       "        vertical-align: middle;\n",
       "    }\n",
       "\n",
       "    .dataframe tbody tr th {\n",
       "        vertical-align: top;\n",
       "    }\n",
       "\n",
       "    .dataframe thead th {\n",
       "        text-align: right;\n",
       "    }\n",
       "</style>\n",
       "<table border=\"1\" class=\"dataframe\">\n",
       "  <thead>\n",
       "    <tr style=\"text-align: right;\">\n",
       "      <th></th>\n",
       "      <th>TIME</th>\n",
       "      <th>GEO</th>\n",
       "      <th>Value</th>\n",
       "    </tr>\n",
       "  </thead>\n",
       "  <tbody>\n",
       "    <tr>\n",
       "      <th>379</th>\n",
       "      <td>2007</td>\n",
       "      <td>Finland</td>\n",
       "      <td>5.90</td>\n",
       "    </tr>\n",
       "    <tr>\n",
       "      <th>380</th>\n",
       "      <td>2008</td>\n",
       "      <td>Finland</td>\n",
       "      <td>6.10</td>\n",
       "    </tr>\n",
       "    <tr>\n",
       "      <th>381</th>\n",
       "      <td>2009</td>\n",
       "      <td>Finland</td>\n",
       "      <td>6.81</td>\n",
       "    </tr>\n",
       "    <tr>\n",
       "      <th>382</th>\n",
       "      <td>2010</td>\n",
       "      <td>Finland</td>\n",
       "      <td>6.85</td>\n",
       "    </tr>\n",
       "    <tr>\n",
       "      <th>383</th>\n",
       "      <td>2011</td>\n",
       "      <td>Finland</td>\n",
       "      <td>6.76</td>\n",
       "    </tr>\n",
       "  </tbody>\n",
       "</table>\n",
       "</div>"
      ],
      "text/plain": [
       "     TIME      GEO  Value\n",
       "379  2007  Finland   5.90\n",
       "380  2008  Finland   6.10\n",
       "381  2009  Finland   6.81\n",
       "382  2010  Finland   6.85\n",
       "383  2011  Finland   6.76"
      ]
     },
     "execution_count": 121,
     "metadata": {},
     "output_type": "execute_result"
    }
   ],
   "source": [
    "edu.tail()"
   ]
  },
  {
   "cell_type": "markdown",
   "id": "91258f98-268b-46f1-b97a-6f1ee981e78b",
   "metadata": {},
   "source": [
    "### Question 3.  \n",
    "What does the method tail() return?\n",
    "\n",
    "**Answer:** It returns the bottom five rows of the dataset as shown below."
   ]
  },
  {
   "cell_type": "markdown",
   "id": "25dde953-dc76-4c38-bba0-9f2063677e29",
   "metadata": {},
   "source": [
    "If we want to know the names of the columns or the names of the indexes,\n",
    "we can use the DataFrameattributes columnsand indexrespectively. The\n",
    "names of the columns or indexes can be changed by assigning a new list\n",
    "of the same length to these attributes. The values of any DataFramecan\n",
    "be retrieved as a Python array by calling its values attribute.\n",
    "\n",
    "If we just want quick statistical information on all the numeric columns\n",
    "in a DataFrame, we can use the function describe()."
   ]
  },
  {
   "cell_type": "code",
   "execution_count": 122,
   "id": "89698e86-102d-4471-a88a-cae097dff688",
   "metadata": {},
   "outputs": [
    {
     "data": {
      "text/html": [
       "<div>\n",
       "<style scoped>\n",
       "    .dataframe tbody tr th:only-of-type {\n",
       "        vertical-align: middle;\n",
       "    }\n",
       "\n",
       "    .dataframe tbody tr th {\n",
       "        vertical-align: top;\n",
       "    }\n",
       "\n",
       "    .dataframe thead th {\n",
       "        text-align: right;\n",
       "    }\n",
       "</style>\n",
       "<table border=\"1\" class=\"dataframe\">\n",
       "  <thead>\n",
       "    <tr style=\"text-align: right;\">\n",
       "      <th></th>\n",
       "      <th>TIME</th>\n",
       "      <th>Value</th>\n",
       "    </tr>\n",
       "  </thead>\n",
       "  <tbody>\n",
       "    <tr>\n",
       "      <th>count</th>\n",
       "      <td>384.000000</td>\n",
       "      <td>361.000000</td>\n",
       "    </tr>\n",
       "    <tr>\n",
       "      <th>mean</th>\n",
       "      <td>2005.500000</td>\n",
       "      <td>5.203989</td>\n",
       "    </tr>\n",
       "    <tr>\n",
       "      <th>std</th>\n",
       "      <td>3.456556</td>\n",
       "      <td>1.021694</td>\n",
       "    </tr>\n",
       "    <tr>\n",
       "      <th>min</th>\n",
       "      <td>2000.000000</td>\n",
       "      <td>2.880000</td>\n",
       "    </tr>\n",
       "    <tr>\n",
       "      <th>25%</th>\n",
       "      <td>2002.750000</td>\n",
       "      <td>4.620000</td>\n",
       "    </tr>\n",
       "    <tr>\n",
       "      <th>50%</th>\n",
       "      <td>2005.500000</td>\n",
       "      <td>5.060000</td>\n",
       "    </tr>\n",
       "    <tr>\n",
       "      <th>75%</th>\n",
       "      <td>2008.250000</td>\n",
       "      <td>5.660000</td>\n",
       "    </tr>\n",
       "    <tr>\n",
       "      <th>max</th>\n",
       "      <td>2011.000000</td>\n",
       "      <td>8.810000</td>\n",
       "    </tr>\n",
       "  </tbody>\n",
       "</table>\n",
       "</div>"
      ],
      "text/plain": [
       "              TIME       Value\n",
       "count   384.000000  361.000000\n",
       "mean   2005.500000    5.203989\n",
       "std       3.456556    1.021694\n",
       "min    2000.000000    2.880000\n",
       "25%    2002.750000    4.620000\n",
       "50%    2005.500000    5.060000\n",
       "75%    2008.250000    5.660000\n",
       "max    2011.000000    8.810000"
      ]
     },
     "execution_count": 122,
     "metadata": {},
     "output_type": "execute_result"
    }
   ],
   "source": [
    "edu.describe()"
   ]
  },
  {
   "cell_type": "markdown",
   "id": "26762f25-d062-4b2f-9e3a-180e67f2507c",
   "metadata": {},
   "source": [
    "### Question 4.  \n",
    "Which measures does the result show? It seems that it shows some default values, can you guess which ones?\n",
    "\n",
    "**Answer**: It shows some statistical metrics pertaining to the columns containing numerical data in the dataframe. These metrics include\n",
    "* Count: the number of rows containing numerical data in each column. \n",
    "* Mean: the average of the values of the column. \n",
    "* Std: the standard deviation of the column. \n",
    "* Min: the minimum value in the column. \n",
    "* 25%: the 25th percentile of the column. \n",
    "* 50%: the 50th percentile of the column.\n",
    "* 75%: the 75th percentile of the column.\n",
    "* Max: the maximum value in the column. "
   ]
  },
  {
   "cell_type": "markdown",
   "id": "da2b936b-40f3-4ef1-b6ab-0443ea8d204d",
   "metadata": {},
   "source": [
    "### 6.2  Selecting data\n",
    "\n",
    "If we want to select a subset of data from a DataFrame, it is necessary\n",
    "to indicate this subset using square brackets (\\[ \\])after the\n",
    "DataFrame. The subset can be specified in several ways. If we want to\n",
    "select only one column from a DataFrame, we only need to put its name\n",
    "between the square brackets. The result will be a Seriesdata structure,\n",
    "not a DataFrame, because only one column is retrieved."
   ]
  },
  {
   "cell_type": "code",
   "execution_count": 123,
   "id": "26891d59-9033-4d8b-ad9a-2d422dcee0e9",
   "metadata": {},
   "outputs": [
    {
     "data": {
      "text/plain": [
       "0       NaN\n",
       "1       NaN\n",
       "2      5.00\n",
       "3      5.03\n",
       "4      4.95\n",
       "       ... \n",
       "379    5.90\n",
       "380    6.10\n",
       "381    6.81\n",
       "382    6.85\n",
       "383    6.76\n",
       "Name: Value, Length: 384, dtype: float64"
      ]
     },
     "execution_count": 123,
     "metadata": {},
     "output_type": "execute_result"
    }
   ],
   "source": [
    "edu['Value']"
   ]
  },
  {
   "cell_type": "markdown",
   "id": "16c98c29-3bf4-44bb-a94c-da5fbb02f77b",
   "metadata": {},
   "source": [
    "If we want to select a subset of rows from a DataFrame, we can do so by\n",
    "indicating a range of rows separated by a colon (:) inside the square\n",
    "brackets. This is known as a *slice* of rows:"
   ]
  },
  {
   "cell_type": "code",
   "execution_count": 124,
   "id": "55829be7-0104-444a-9244-525b7845f91f",
   "metadata": {},
   "outputs": [
    {
     "data": {
      "text/html": [
       "<div>\n",
       "<style scoped>\n",
       "    .dataframe tbody tr th:only-of-type {\n",
       "        vertical-align: middle;\n",
       "    }\n",
       "\n",
       "    .dataframe tbody tr th {\n",
       "        vertical-align: top;\n",
       "    }\n",
       "\n",
       "    .dataframe thead th {\n",
       "        text-align: right;\n",
       "    }\n",
       "</style>\n",
       "<table border=\"1\" class=\"dataframe\">\n",
       "  <thead>\n",
       "    <tr style=\"text-align: right;\">\n",
       "      <th></th>\n",
       "      <th>TIME</th>\n",
       "      <th>GEO</th>\n",
       "      <th>Value</th>\n",
       "    </tr>\n",
       "  </thead>\n",
       "  <tbody>\n",
       "    <tr>\n",
       "      <th>10</th>\n",
       "      <td>2010</td>\n",
       "      <td>European Union (28 countries)</td>\n",
       "      <td>5.41</td>\n",
       "    </tr>\n",
       "    <tr>\n",
       "      <th>11</th>\n",
       "      <td>2011</td>\n",
       "      <td>European Union (28 countries)</td>\n",
       "      <td>5.25</td>\n",
       "    </tr>\n",
       "    <tr>\n",
       "      <th>12</th>\n",
       "      <td>2000</td>\n",
       "      <td>European Union (27 countries)</td>\n",
       "      <td>4.91</td>\n",
       "    </tr>\n",
       "    <tr>\n",
       "      <th>13</th>\n",
       "      <td>2001</td>\n",
       "      <td>European Union (27 countries)</td>\n",
       "      <td>4.99</td>\n",
       "    </tr>\n",
       "  </tbody>\n",
       "</table>\n",
       "</div>"
      ],
      "text/plain": [
       "    TIME                            GEO  Value\n",
       "10  2010  European Union (28 countries)   5.41\n",
       "11  2011  European Union (28 countries)   5.25\n",
       "12  2000  European Union (27 countries)   4.91\n",
       "13  2001  European Union (27 countries)   4.99"
      ]
     },
     "execution_count": 124,
     "metadata": {},
     "output_type": "execute_result"
    }
   ],
   "source": [
    "edu[10:14]"
   ]
  },
  {
   "cell_type": "markdown",
   "id": "0ab887a0-a217-4dbd-81bd-4d06f7fad76a",
   "metadata": {},
   "source": [
    "This instruction returns the slice of rows from the 10th to the 13th\n",
    "position. Note that the slice does not use the index labels as\n",
    "references, but the position. In this case, the labels of the rows\n",
    "simply coincide with the position of the rows.\n",
    "\n",
    "If we want to select a subset of columns and rows using the labels as\n",
    "our references instead of the positions, we can use ilocindexing:"
   ]
  },
  {
   "cell_type": "code",
   "execution_count": 125,
   "id": "d1b1026f-7d89-40a0-a10d-b2674da3547e",
   "metadata": {},
   "outputs": [
    {
     "data": {
      "text/html": [
       "<div>\n",
       "<style scoped>\n",
       "    .dataframe tbody tr th:only-of-type {\n",
       "        vertical-align: middle;\n",
       "    }\n",
       "\n",
       "    .dataframe tbody tr th {\n",
       "        vertical-align: top;\n",
       "    }\n",
       "\n",
       "    .dataframe thead th {\n",
       "        text-align: right;\n",
       "    }\n",
       "</style>\n",
       "<table border=\"1\" class=\"dataframe\">\n",
       "  <thead>\n",
       "    <tr style=\"text-align: right;\">\n",
       "      <th></th>\n",
       "      <th>TIME</th>\n",
       "      <th>GEO</th>\n",
       "    </tr>\n",
       "  </thead>\n",
       "  <tbody>\n",
       "    <tr>\n",
       "      <th>90</th>\n",
       "      <td>2006</td>\n",
       "      <td>Belgium</td>\n",
       "    </tr>\n",
       "    <tr>\n",
       "      <th>91</th>\n",
       "      <td>2007</td>\n",
       "      <td>Belgium</td>\n",
       "    </tr>\n",
       "    <tr>\n",
       "      <th>92</th>\n",
       "      <td>2008</td>\n",
       "      <td>Belgium</td>\n",
       "    </tr>\n",
       "    <tr>\n",
       "      <th>93</th>\n",
       "      <td>2009</td>\n",
       "      <td>Belgium</td>\n",
       "    </tr>\n",
       "    <tr>\n",
       "      <th>94</th>\n",
       "      <td>2010</td>\n",
       "      <td>Belgium</td>\n",
       "    </tr>\n",
       "  </tbody>\n",
       "</table>\n",
       "</div>"
      ],
      "text/plain": [
       "    TIME      GEO\n",
       "90  2006  Belgium\n",
       "91  2007  Belgium\n",
       "92  2008  Belgium\n",
       "93  2009  Belgium\n",
       "94  2010  Belgium"
      ]
     },
     "execution_count": 125,
     "metadata": {},
     "output_type": "execute_result"
    }
   ],
   "source": [
    "edu.loc[90:94][['TIME','GEO']]"
   ]
  },
  {
   "cell_type": "markdown",
   "id": "0c3681cb-a2d7-4f05-b33c-59ee403450f0",
   "metadata": {},
   "source": [
    "### Question 5.  \n",
    "What does this index return? What does the first index represent? And the second one?\n",
    "\n",
    "**Answer:** The index returns the values in the TIME and GEO columns from the 90th to 94th row. The first index represents the range of the rows. The second index represents the columns to which the first index should be applied.  "
   ]
  },
  {
   "cell_type": "markdown",
   "id": "196a62c4-e86f-414c-99a3-14cb5e223d42",
   "metadata": {},
   "source": [
    "### 6.3  Filtering data\n",
    "\n",
    "Another way to select a subset of data is by applying Boolean indexing.\n",
    "This indexing is known as a *filter*. For instance, if we want to filter\n",
    "those values less than or equal to 6.5, we can do it like this:"
   ]
  },
  {
   "cell_type": "code",
   "execution_count": 126,
   "id": "656c3673-d58d-49dc-8a3c-c5be27bd4f77",
   "metadata": {},
   "outputs": [
    {
     "data": {
      "text/html": [
       "<div>\n",
       "<style scoped>\n",
       "    .dataframe tbody tr th:only-of-type {\n",
       "        vertical-align: middle;\n",
       "    }\n",
       "\n",
       "    .dataframe tbody tr th {\n",
       "        vertical-align: top;\n",
       "    }\n",
       "\n",
       "    .dataframe thead th {\n",
       "        text-align: right;\n",
       "    }\n",
       "</style>\n",
       "<table border=\"1\" class=\"dataframe\">\n",
       "  <thead>\n",
       "    <tr style=\"text-align: right;\">\n",
       "      <th></th>\n",
       "      <th>TIME</th>\n",
       "      <th>GEO</th>\n",
       "      <th>Value</th>\n",
       "    </tr>\n",
       "  </thead>\n",
       "  <tbody>\n",
       "    <tr>\n",
       "      <th>286</th>\n",
       "      <td>2010</td>\n",
       "      <td>Malta</td>\n",
       "      <td>6.74</td>\n",
       "    </tr>\n",
       "    <tr>\n",
       "      <th>287</th>\n",
       "      <td>2011</td>\n",
       "      <td>Malta</td>\n",
       "      <td>7.96</td>\n",
       "    </tr>\n",
       "    <tr>\n",
       "      <th>381</th>\n",
       "      <td>2009</td>\n",
       "      <td>Finland</td>\n",
       "      <td>6.81</td>\n",
       "    </tr>\n",
       "    <tr>\n",
       "      <th>382</th>\n",
       "      <td>2010</td>\n",
       "      <td>Finland</td>\n",
       "      <td>6.85</td>\n",
       "    </tr>\n",
       "    <tr>\n",
       "      <th>383</th>\n",
       "      <td>2011</td>\n",
       "      <td>Finland</td>\n",
       "      <td>6.76</td>\n",
       "    </tr>\n",
       "  </tbody>\n",
       "</table>\n",
       "</div>"
      ],
      "text/plain": [
       "     TIME      GEO  Value\n",
       "286  2010    Malta   6.74\n",
       "287  2011    Malta   7.96\n",
       "381  2009  Finland   6.81\n",
       "382  2010  Finland   6.85\n",
       "383  2011  Finland   6.76"
      ]
     },
     "execution_count": 126,
     "metadata": {},
     "output_type": "execute_result"
    }
   ],
   "source": [
    "edu[edu['Value'] > 6.5].tail()"
   ]
  },
  {
   "cell_type": "markdown",
   "id": "926e977f-7369-4cca-99ca-0e694a944c68",
   "metadata": {},
   "source": [
    "Boolean indexing uses the result of a Boolean operation over the data,\n",
    "returning a mask with True or False for each row. The rows marked True\n",
    "in the mask will be selected."
   ]
  },
  {
   "cell_type": "markdown",
   "id": "c56f7056-1a0f-45df-94b6-f4a24485fa5f",
   "metadata": {
    "tags": []
   },
   "source": [
    "### Question 6.  \n",
    "What does the operation `edu['Value'] > 6.5` produce? An if we apply the index `edu[edu['Value'] > 6.5]`? Is this a Series or a DataFrame?\n",
    "\n",
    "**Answer:** The operation produces a Series. When the index is applied, it produces a DataFrame"
   ]
  },
  {
   "cell_type": "code",
   "execution_count": 127,
   "id": "f18b9b43-dfbd-444a-9939-c4695393126e",
   "metadata": {},
   "outputs": [
    {
     "data": {
      "text/plain": [
       "pandas.core.series.Series"
      ]
     },
     "execution_count": 127,
     "metadata": {},
     "output_type": "execute_result"
    }
   ],
   "source": [
    "type(edu['Value'] > 6.5)"
   ]
  },
  {
   "cell_type": "code",
   "execution_count": 128,
   "id": "67d77bc9-cf3a-4445-ab36-e460881252b0",
   "metadata": {},
   "outputs": [
    {
     "data": {
      "text/plain": [
       "pandas.core.frame.DataFrame"
      ]
     },
     "execution_count": 128,
     "metadata": {},
     "output_type": "execute_result"
    }
   ],
   "source": [
    "type(edu[edu['Value'] > 6.5])"
   ]
  },
  {
   "cell_type": "markdown",
   "id": "0e4cec61-ac11-47b7-b9b9-c9e697d231f4",
   "metadata": {},
   "source": [
    "Of course, any of the usual Boolean operators can be used for filtering:\n",
    "\\< (less than),\\<= (less than or equal to), \\> (greater than), \\>=\n",
    "(greater than or equal to), == (equal to), and ! = (not equal to)."
   ]
  },
  {
   "cell_type": "markdown",
   "id": "daa7b1f8-8a38-49aa-a3ee-8f48ffb1394e",
   "metadata": {},
   "source": [
    "### 6.4  Filtering missing values\n",
    "\n",
    "Pandas uses the special value NaN(not a number) to represent missing\n",
    "values. In Python, NaN is a special floating-point value returned by\n",
    "certain operations when one of their results ends in an undefined value.\n",
    "A subtle feature of NaN values is that two NaNare never equal. Because of\n",
    "this, the only safe way to tell whether a value is missing in a\n",
    "DataFrame is by using the function isnull(). Indeed, this function can be\n",
    "used to filter rows with missing values:"
   ]
  },
  {
   "cell_type": "code",
   "execution_count": 129,
   "id": "78528867-1daa-4e9d-a653-9027053d036b",
   "metadata": {},
   "outputs": [
    {
     "data": {
      "text/html": [
       "<div>\n",
       "<style scoped>\n",
       "    .dataframe tbody tr th:only-of-type {\n",
       "        vertical-align: middle;\n",
       "    }\n",
       "\n",
       "    .dataframe tbody tr th {\n",
       "        vertical-align: top;\n",
       "    }\n",
       "\n",
       "    .dataframe thead th {\n",
       "        text-align: right;\n",
       "    }\n",
       "</style>\n",
       "<table border=\"1\" class=\"dataframe\">\n",
       "  <thead>\n",
       "    <tr style=\"text-align: right;\">\n",
       "      <th></th>\n",
       "      <th>TIME</th>\n",
       "      <th>GEO</th>\n",
       "      <th>Value</th>\n",
       "    </tr>\n",
       "  </thead>\n",
       "  <tbody>\n",
       "    <tr>\n",
       "      <th>0</th>\n",
       "      <td>2000</td>\n",
       "      <td>European Union (28 countries)</td>\n",
       "      <td>NaN</td>\n",
       "    </tr>\n",
       "    <tr>\n",
       "      <th>1</th>\n",
       "      <td>2001</td>\n",
       "      <td>European Union (28 countries)</td>\n",
       "      <td>NaN</td>\n",
       "    </tr>\n",
       "    <tr>\n",
       "      <th>36</th>\n",
       "      <td>2000</td>\n",
       "      <td>Euro area (18 countries)</td>\n",
       "      <td>NaN</td>\n",
       "    </tr>\n",
       "    <tr>\n",
       "      <th>37</th>\n",
       "      <td>2001</td>\n",
       "      <td>Euro area (18 countries)</td>\n",
       "      <td>NaN</td>\n",
       "    </tr>\n",
       "    <tr>\n",
       "      <th>48</th>\n",
       "      <td>2000</td>\n",
       "      <td>Euro area (17 countries)</td>\n",
       "      <td>NaN</td>\n",
       "    </tr>\n",
       "  </tbody>\n",
       "</table>\n",
       "</div>"
      ],
      "text/plain": [
       "    TIME                            GEO  Value\n",
       "0   2000  European Union (28 countries)    NaN\n",
       "1   2001  European Union (28 countries)    NaN\n",
       "36  2000       Euro area (18 countries)    NaN\n",
       "37  2001       Euro area (18 countries)    NaN\n",
       "48  2000       Euro area (17 countries)    NaN"
      ]
     },
     "execution_count": 129,
     "metadata": {},
     "output_type": "execute_result"
    }
   ],
   "source": [
    "edu[edu[\"Value\"].isnull()].head()"
   ]
  },
  {
   "cell_type": "markdown",
   "id": "4c285b37-da02-4e49-8721-5facbf06be32",
   "metadata": {},
   "source": [
    "### 6.5  Manipulating data\n",
    "\n",
    "Once we know how to select the desired data, the next thing we need to\n",
    "know is how to manipulate data. One of the most straightforward things\n",
    "we can do is to operate with columns or rows using aggregation\n",
    "functions.\n",
    "\n",
    "![Common aggregate functions](http://vargas-solar.com/data-centric-smart-everything/wp-content/uploads/sites/42/2018/09/table.png)edu.max(axis = 0)\n",
    "\n",
    "Table 2.1 shows a list of the most common aggregation functions. The\n",
    "result of all these functions applied to a row or column is always a\n",
    "number. Meanwhile, if a function is applied to a DataFrameor a selection\n",
    "of rows and columns, then you can specify if the function should be\n",
    "applied to the rows for each column (setting the axis=0 keyword on the\n",
    "invocation of the function), or it should be applied on the columns for\n",
    "each row (setting the axis=1 keyword on the invocation of the function)."
   ]
  },
  {
   "cell_type": "code",
   "execution_count": 130,
   "id": "e267a9e7-7857-4a3c-ac1e-40d144367dc8",
   "metadata": {},
   "outputs": [
    {
     "data": {
      "text/plain": [
       "TIME      2011\n",
       "GEO      Spain\n",
       "Value     8.81\n",
       "dtype: object"
      ]
     },
     "execution_count": 130,
     "metadata": {},
     "output_type": "execute_result"
    }
   ],
   "source": [
    "edu.max(axis = 0)"
   ]
  },
  {
   "cell_type": "markdown",
   "id": "32f3ee81-19bc-48be-9c0e-39b7cc171242",
   "metadata": {},
   "source": [
    "Note that these are functions specific to Pandas, not the generic Python\n",
    "functions. There are differences in their implementation. In Python,\n",
    "NaNvalues propagate through all operations without raising an exception.\n",
    "In contrast, Pandas operations exclude NaNvalues representing missing\n",
    "data. For example, the Pandas maxfunction excludes NaNvalues, thus they\n",
    "are interpreted as missing values, while the standard Python max\n",
    "function will take the mathematical interpretation of NaNand return it\n",
    "as the maximum:"
   ]
  },
  {
   "cell_type": "code",
   "execution_count": 131,
   "id": "e3e4bc62-1367-429c-afc9-63ba587edeb3",
   "metadata": {},
   "outputs": [
    {
     "name": "stdout",
     "output_type": "stream",
     "text": [
      "Pandas max function: 8.81\n",
      "Python max function: nan\n"
     ]
    }
   ],
   "source": [
    "print ('Pandas max function:', edu['Value'].max())\n",
    "print ('Python max function:', max(edu['Value']))"
   ]
  },
  {
   "cell_type": "markdown",
   "id": "6c739f15-cb5f-4200-8f99-b7a41166b45a",
   "metadata": {},
   "source": [
    "Beside these aggregation functions, we can apply operations over all the values in rows, columns or a selection of both. The rule of thumb is that an operation between columns means that it is applied to each row in that column and an operation between rows means that it is applied to each column in that row. For example we can apply any binary arithmetical operation (+,-,*,/) to an entire row:"
   ]
  },
  {
   "cell_type": "code",
   "execution_count": 132,
   "id": "98688123-c198-4b7c-8da7-dadeb3917340",
   "metadata": {},
   "outputs": [
    {
     "data": {
      "text/plain": [
       "0       NaN\n",
       "1       NaN\n",
       "2    0.0500\n",
       "3    0.0503\n",
       "4    0.0495\n",
       "Name: Value, dtype: float64"
      ]
     },
     "execution_count": 132,
     "metadata": {},
     "output_type": "execute_result"
    }
   ],
   "source": [
    "s = edu[\"Value\"]/100\n",
    "s.head()"
   ]
  },
  {
   "cell_type": "markdown",
   "id": "bce58727-58b8-4337-b4a0-1198fb0d8ea3",
   "metadata": {},
   "source": [
    "However, we can apply any function to a DataFrameor Seriesjust setting its name as argument of the apply method. For example, in the following code, we apply the sqrt function from the NumPylibrary to perform the square root of each value in the column Value."
   ]
  },
  {
   "cell_type": "code",
   "execution_count": 133,
   "id": "380317d0-2c16-430e-9413-76515eadbabb",
   "metadata": {},
   "outputs": [
    {
     "data": {
      "text/plain": [
       "0         NaN\n",
       "1         NaN\n",
       "2    2.236068\n",
       "3    2.242766\n",
       "4    2.224860\n",
       "Name: Value, dtype: float64"
      ]
     },
     "execution_count": 133,
     "metadata": {},
     "output_type": "execute_result"
    }
   ],
   "source": [
    "s = edu[\"Value\"].apply(np.sqrt)\n",
    "s.head()"
   ]
  },
  {
   "cell_type": "markdown",
   "id": "bb6c957f-544f-4213-a877-9f0bf6b2ac10",
   "metadata": {},
   "source": [
    "If we need to design a specific function to apply it, we can write an in-line function, known as a λ-function. A λ-function is a function without a name. It is only necessary to specify the parameters it receives, between the lambda keyword and the colon (:). In the next example, only one parameter is needed, which will be the value of each element in the column Value. The value the function returns will be the square of that value."
   ]
  },
  {
   "cell_type": "code",
   "execution_count": 134,
   "id": "3cea7ae1-123e-4e0c-a53f-cf5edeeeaa59",
   "metadata": {},
   "outputs": [
    {
     "data": {
      "text/plain": [
       "0        NaN\n",
       "1        NaN\n",
       "2    25.0000\n",
       "3    25.3009\n",
       "4    24.5025\n",
       "Name: Value, dtype: float64"
      ]
     },
     "execution_count": 134,
     "metadata": {},
     "output_type": "execute_result"
    }
   ],
   "source": [
    "s = edu[\"Value\"].apply(lambda d: d**2)\n",
    "s.head()"
   ]
  },
  {
   "cell_type": "markdown",
   "id": "90510dd0-d6eb-4bce-b8a1-c25fd684a91a",
   "metadata": {},
   "source": [
    "Another basic manipulation operation is to set new values in our DataFrame. This can be done directly using the assign operator (=) over a DataFrame. For example, to add a new column to a DataFrame, we can assign a Seriesto a selection of a column that does not exist.\n",
    "\n",
    "This will produce a new column in the DataFrameafter all the others. You must be aware that if a column with the same name already exists, the previous values will be overwritten. In the following example, we assign the Seriesthat results from dividing the columnValueby the maximum value in the same column to a new column named ValueNorm."
   ]
  },
  {
   "cell_type": "code",
   "execution_count": 135,
   "id": "868af8eb-6118-41cd-aaa6-324f91e275ef",
   "metadata": {},
   "outputs": [
    {
     "data": {
      "text/html": [
       "<div>\n",
       "<style scoped>\n",
       "    .dataframe tbody tr th:only-of-type {\n",
       "        vertical-align: middle;\n",
       "    }\n",
       "\n",
       "    .dataframe tbody tr th {\n",
       "        vertical-align: top;\n",
       "    }\n",
       "\n",
       "    .dataframe thead th {\n",
       "        text-align: right;\n",
       "    }\n",
       "</style>\n",
       "<table border=\"1\" class=\"dataframe\">\n",
       "  <thead>\n",
       "    <tr style=\"text-align: right;\">\n",
       "      <th></th>\n",
       "      <th>TIME</th>\n",
       "      <th>GEO</th>\n",
       "      <th>Value</th>\n",
       "      <th>ValueNorm</th>\n",
       "    </tr>\n",
       "  </thead>\n",
       "  <tbody>\n",
       "    <tr>\n",
       "      <th>379</th>\n",
       "      <td>2007</td>\n",
       "      <td>Finland</td>\n",
       "      <td>5.90</td>\n",
       "      <td>0.669694</td>\n",
       "    </tr>\n",
       "    <tr>\n",
       "      <th>380</th>\n",
       "      <td>2008</td>\n",
       "      <td>Finland</td>\n",
       "      <td>6.10</td>\n",
       "      <td>0.692395</td>\n",
       "    </tr>\n",
       "    <tr>\n",
       "      <th>381</th>\n",
       "      <td>2009</td>\n",
       "      <td>Finland</td>\n",
       "      <td>6.81</td>\n",
       "      <td>0.772985</td>\n",
       "    </tr>\n",
       "    <tr>\n",
       "      <th>382</th>\n",
       "      <td>2010</td>\n",
       "      <td>Finland</td>\n",
       "      <td>6.85</td>\n",
       "      <td>0.777526</td>\n",
       "    </tr>\n",
       "    <tr>\n",
       "      <th>383</th>\n",
       "      <td>2011</td>\n",
       "      <td>Finland</td>\n",
       "      <td>6.76</td>\n",
       "      <td>0.767310</td>\n",
       "    </tr>\n",
       "  </tbody>\n",
       "</table>\n",
       "</div>"
      ],
      "text/plain": [
       "     TIME      GEO  Value  ValueNorm\n",
       "379  2007  Finland   5.90   0.669694\n",
       "380  2008  Finland   6.10   0.692395\n",
       "381  2009  Finland   6.81   0.772985\n",
       "382  2010  Finland   6.85   0.777526\n",
       "383  2011  Finland   6.76   0.767310"
      ]
     },
     "execution_count": 135,
     "metadata": {},
     "output_type": "execute_result"
    }
   ],
   "source": [
    "edu['ValueNorm'] = edu['Value']/edu['Value'].max()\n",
    "edu.tail()"
   ]
  },
  {
   "cell_type": "markdown",
   "id": "00a0d1d5-1165-4c28-a5c6-e555a399d4fb",
   "metadata": {},
   "source": [
    "Now, if we want to remove this column from the DataFrame, we can use the function drop.\n",
    "\n",
    "This removes the indicated rows if axis=0, or the indicated columns if axis=1.\n",
    "\n",
    "In Pandas, all the functions that change the contents of a DataFrame, such as the function drop, will normally return a copy of the modified data, instead of overwriting the DataFrame. Therefore, the original DataFrameis kept. If you do not want to keep the old values, you can set the keyword inplaceto True. By default, this keyword is set toFalse, meaning that a copy of the data is returned."
   ]
  },
  {
   "cell_type": "code",
   "execution_count": 136,
   "id": "9d36cfd1-e105-471b-8db9-686b95eb42b9",
   "metadata": {},
   "outputs": [
    {
     "data": {
      "text/html": [
       "<div>\n",
       "<style scoped>\n",
       "    .dataframe tbody tr th:only-of-type {\n",
       "        vertical-align: middle;\n",
       "    }\n",
       "\n",
       "    .dataframe tbody tr th {\n",
       "        vertical-align: top;\n",
       "    }\n",
       "\n",
       "    .dataframe thead th {\n",
       "        text-align: right;\n",
       "    }\n",
       "</style>\n",
       "<table border=\"1\" class=\"dataframe\">\n",
       "  <thead>\n",
       "    <tr style=\"text-align: right;\">\n",
       "      <th></th>\n",
       "      <th>TIME</th>\n",
       "      <th>GEO</th>\n",
       "      <th>Value</th>\n",
       "    </tr>\n",
       "  </thead>\n",
       "  <tbody>\n",
       "    <tr>\n",
       "      <th>0</th>\n",
       "      <td>2000</td>\n",
       "      <td>European Union (28 countries)</td>\n",
       "      <td>NaN</td>\n",
       "    </tr>\n",
       "    <tr>\n",
       "      <th>1</th>\n",
       "      <td>2001</td>\n",
       "      <td>European Union (28 countries)</td>\n",
       "      <td>NaN</td>\n",
       "    </tr>\n",
       "    <tr>\n",
       "      <th>2</th>\n",
       "      <td>2002</td>\n",
       "      <td>European Union (28 countries)</td>\n",
       "      <td>5.00</td>\n",
       "    </tr>\n",
       "    <tr>\n",
       "      <th>3</th>\n",
       "      <td>2003</td>\n",
       "      <td>European Union (28 countries)</td>\n",
       "      <td>5.03</td>\n",
       "    </tr>\n",
       "    <tr>\n",
       "      <th>4</th>\n",
       "      <td>2004</td>\n",
       "      <td>European Union (28 countries)</td>\n",
       "      <td>4.95</td>\n",
       "    </tr>\n",
       "  </tbody>\n",
       "</table>\n",
       "</div>"
      ],
      "text/plain": [
       "   TIME                            GEO  Value\n",
       "0  2000  European Union (28 countries)    NaN\n",
       "1  2001  European Union (28 countries)    NaN\n",
       "2  2002  European Union (28 countries)   5.00\n",
       "3  2003  European Union (28 countries)   5.03\n",
       "4  2004  European Union (28 countries)   4.95"
      ]
     },
     "execution_count": 136,
     "metadata": {},
     "output_type": "execute_result"
    }
   ],
   "source": [
    "edu.drop('ValueNorm', axis = 1, inplace = True)\n",
    "edu.head()"
   ]
  },
  {
   "cell_type": "markdown",
   "id": "11e5a200-7bc9-43aa-957e-b9def7db458e",
   "metadata": {},
   "source": [
    "Instead, if what we want to do is to insert a new row at the bottom of the DataFrame, we can use the Pandas function append. This function receives as argument the new row, which is represented as a dictionary where the keys are the name of the columns and the values are the associated value. You must be aware to setting the ignore_indexflag in the append method to True, otherwise the index 0 is given to this new row, which will produce an error if it already exists:"
   ]
  },
  {
   "cell_type": "code",
   "execution_count": 138,
   "id": "6b380dcf-045e-419a-a3d7-f01c1b8fa213",
   "metadata": {},
   "outputs": [
    {
     "name": "stderr",
     "output_type": "stream",
     "text": [
      "C:\\Users\\Ahmad\\AppData\\Local\\Temp\\ipykernel_23076\\671751185.py:1: FutureWarning: The frame.append method is deprecated and will be removed from pandas in a future version. Use pandas.concat instead.\n",
      "  edu = edu.append({\"TIME\": 2000, \"Value\": 5.00, \"GEO\": 'a'},ignore_index = True)\n"
     ]
    },
    {
     "data": {
      "text/html": [
       "<div>\n",
       "<style scoped>\n",
       "    .dataframe tbody tr th:only-of-type {\n",
       "        vertical-align: middle;\n",
       "    }\n",
       "\n",
       "    .dataframe tbody tr th {\n",
       "        vertical-align: top;\n",
       "    }\n",
       "\n",
       "    .dataframe thead th {\n",
       "        text-align: right;\n",
       "    }\n",
       "</style>\n",
       "<table border=\"1\" class=\"dataframe\">\n",
       "  <thead>\n",
       "    <tr style=\"text-align: right;\">\n",
       "      <th></th>\n",
       "      <th>TIME</th>\n",
       "      <th>GEO</th>\n",
       "      <th>Value</th>\n",
       "    </tr>\n",
       "  </thead>\n",
       "  <tbody>\n",
       "    <tr>\n",
       "      <th>380</th>\n",
       "      <td>2008</td>\n",
       "      <td>Finland</td>\n",
       "      <td>6.10</td>\n",
       "    </tr>\n",
       "    <tr>\n",
       "      <th>381</th>\n",
       "      <td>2009</td>\n",
       "      <td>Finland</td>\n",
       "      <td>6.81</td>\n",
       "    </tr>\n",
       "    <tr>\n",
       "      <th>382</th>\n",
       "      <td>2010</td>\n",
       "      <td>Finland</td>\n",
       "      <td>6.85</td>\n",
       "    </tr>\n",
       "    <tr>\n",
       "      <th>383</th>\n",
       "      <td>2011</td>\n",
       "      <td>Finland</td>\n",
       "      <td>6.76</td>\n",
       "    </tr>\n",
       "    <tr>\n",
       "      <th>384</th>\n",
       "      <td>2000</td>\n",
       "      <td>a</td>\n",
       "      <td>5.00</td>\n",
       "    </tr>\n",
       "  </tbody>\n",
       "</table>\n",
       "</div>"
      ],
      "text/plain": [
       "     TIME      GEO  Value\n",
       "380  2008  Finland   6.10\n",
       "381  2009  Finland   6.81\n",
       "382  2010  Finland   6.85\n",
       "383  2011  Finland   6.76\n",
       "384  2000        a   5.00"
      ]
     },
     "execution_count": 138,
     "metadata": {},
     "output_type": "execute_result"
    }
   ],
   "source": [
    "edu = edu.append({\"TIME\": 2000, \"Value\": 5.00, \"GEO\": 'a'},ignore_index = True)\n",
    "edu.tail()"
   ]
  },
  {
   "cell_type": "markdown",
   "id": "a82599fd-66e7-4771-80ae-4bde99ac8701",
   "metadata": {},
   "source": [
    "Finally, if we want to remove this row, we need to use the function dropagain. Now we have to set the axis to 0, and specify the index of the row we want to remove. Since we want to remove the last row, we can use the max function over the indexes to determine which row is."
   ]
  },
  {
   "cell_type": "code",
   "execution_count": 139,
   "id": "87df4146-5b96-4e2c-a2fb-916e0860b7b4",
   "metadata": {},
   "outputs": [
    {
     "data": {
      "text/html": [
       "<div>\n",
       "<style scoped>\n",
       "    .dataframe tbody tr th:only-of-type {\n",
       "        vertical-align: middle;\n",
       "    }\n",
       "\n",
       "    .dataframe tbody tr th {\n",
       "        vertical-align: top;\n",
       "    }\n",
       "\n",
       "    .dataframe thead th {\n",
       "        text-align: right;\n",
       "    }\n",
       "</style>\n",
       "<table border=\"1\" class=\"dataframe\">\n",
       "  <thead>\n",
       "    <tr style=\"text-align: right;\">\n",
       "      <th></th>\n",
       "      <th>TIME</th>\n",
       "      <th>GEO</th>\n",
       "      <th>Value</th>\n",
       "    </tr>\n",
       "  </thead>\n",
       "  <tbody>\n",
       "    <tr>\n",
       "      <th>379</th>\n",
       "      <td>2007</td>\n",
       "      <td>Finland</td>\n",
       "      <td>5.90</td>\n",
       "    </tr>\n",
       "    <tr>\n",
       "      <th>380</th>\n",
       "      <td>2008</td>\n",
       "      <td>Finland</td>\n",
       "      <td>6.10</td>\n",
       "    </tr>\n",
       "    <tr>\n",
       "      <th>381</th>\n",
       "      <td>2009</td>\n",
       "      <td>Finland</td>\n",
       "      <td>6.81</td>\n",
       "    </tr>\n",
       "    <tr>\n",
       "      <th>382</th>\n",
       "      <td>2010</td>\n",
       "      <td>Finland</td>\n",
       "      <td>6.85</td>\n",
       "    </tr>\n",
       "    <tr>\n",
       "      <th>383</th>\n",
       "      <td>2011</td>\n",
       "      <td>Finland</td>\n",
       "      <td>6.76</td>\n",
       "    </tr>\n",
       "  </tbody>\n",
       "</table>\n",
       "</div>"
      ],
      "text/plain": [
       "     TIME      GEO  Value\n",
       "379  2007  Finland   5.90\n",
       "380  2008  Finland   6.10\n",
       "381  2009  Finland   6.81\n",
       "382  2010  Finland   6.85\n",
       "383  2011  Finland   6.76"
      ]
     },
     "execution_count": 139,
     "metadata": {},
     "output_type": "execute_result"
    }
   ],
   "source": [
    "edu.drop(max(edu.index), axis = 0, inplace = True)\n",
    "edu.tail()"
   ]
  },
  {
   "cell_type": "markdown",
   "id": "e984c809-114b-4853-8bcc-9c42b280d25b",
   "metadata": {},
   "source": [
    "The function isnull()can be used to remove NaN values. This has a similar effect to filtering the NaN values, as explained above, but here the difference is that a copy of the DataFramewithout the NaNvalues is returned, instead of a view."
   ]
  },
  {
   "cell_type": "code",
   "execution_count": 140,
   "id": "cd13bcc1-abda-4d89-bfbc-47678f016e7f",
   "metadata": {},
   "outputs": [
    {
     "data": {
      "text/html": [
       "<div>\n",
       "<style scoped>\n",
       "    .dataframe tbody tr th:only-of-type {\n",
       "        vertical-align: middle;\n",
       "    }\n",
       "\n",
       "    .dataframe tbody tr th {\n",
       "        vertical-align: top;\n",
       "    }\n",
       "\n",
       "    .dataframe thead th {\n",
       "        text-align: right;\n",
       "    }\n",
       "</style>\n",
       "<table border=\"1\" class=\"dataframe\">\n",
       "  <thead>\n",
       "    <tr style=\"text-align: right;\">\n",
       "      <th></th>\n",
       "      <th>TIME</th>\n",
       "      <th>GEO</th>\n",
       "      <th>Value</th>\n",
       "    </tr>\n",
       "  </thead>\n",
       "  <tbody>\n",
       "    <tr>\n",
       "      <th>2</th>\n",
       "      <td>2002</td>\n",
       "      <td>European Union (28 countries)</td>\n",
       "      <td>5.00</td>\n",
       "    </tr>\n",
       "    <tr>\n",
       "      <th>3</th>\n",
       "      <td>2003</td>\n",
       "      <td>European Union (28 countries)</td>\n",
       "      <td>5.03</td>\n",
       "    </tr>\n",
       "    <tr>\n",
       "      <th>4</th>\n",
       "      <td>2004</td>\n",
       "      <td>European Union (28 countries)</td>\n",
       "      <td>4.95</td>\n",
       "    </tr>\n",
       "    <tr>\n",
       "      <th>5</th>\n",
       "      <td>2005</td>\n",
       "      <td>European Union (28 countries)</td>\n",
       "      <td>4.92</td>\n",
       "    </tr>\n",
       "    <tr>\n",
       "      <th>6</th>\n",
       "      <td>2006</td>\n",
       "      <td>European Union (28 countries)</td>\n",
       "      <td>4.91</td>\n",
       "    </tr>\n",
       "  </tbody>\n",
       "</table>\n",
       "</div>"
      ],
      "text/plain": [
       "   TIME                            GEO  Value\n",
       "2  2002  European Union (28 countries)   5.00\n",
       "3  2003  European Union (28 countries)   5.03\n",
       "4  2004  European Union (28 countries)   4.95\n",
       "5  2005  European Union (28 countries)   4.92\n",
       "6  2006  European Union (28 countries)   4.91"
      ]
     },
     "execution_count": 140,
     "metadata": {},
     "output_type": "execute_result"
    }
   ],
   "source": [
    "eduDrop = edu[~edu[\"Value\"].isnull()].copy()\n",
    "eduDrop.head()"
   ]
  },
  {
   "cell_type": "markdown",
   "id": "b5d588d8-141f-4119-a828-22f336927ff9",
   "metadata": {},
   "source": [
    "To remove NaNvalues, instead of the generic function drop, we can use the specific function dropna(). If we want to erase any row that contains an NaN value, we have to set the how keyword to any. To restrict it to a subset of columns, we can specify it using the subset keyword. As we can see below, the result will be the same as using the function drop:"
   ]
  },
  {
   "cell_type": "code",
   "execution_count": 141,
   "id": "ea59e16f-dc81-4ce3-a412-9eba9ea6c3ff",
   "metadata": {},
   "outputs": [
    {
     "data": {
      "text/html": [
       "<div>\n",
       "<style scoped>\n",
       "    .dataframe tbody tr th:only-of-type {\n",
       "        vertical-align: middle;\n",
       "    }\n",
       "\n",
       "    .dataframe tbody tr th {\n",
       "        vertical-align: top;\n",
       "    }\n",
       "\n",
       "    .dataframe thead th {\n",
       "        text-align: right;\n",
       "    }\n",
       "</style>\n",
       "<table border=\"1\" class=\"dataframe\">\n",
       "  <thead>\n",
       "    <tr style=\"text-align: right;\">\n",
       "      <th></th>\n",
       "      <th>TIME</th>\n",
       "      <th>GEO</th>\n",
       "      <th>Value</th>\n",
       "    </tr>\n",
       "  </thead>\n",
       "  <tbody>\n",
       "    <tr>\n",
       "      <th>2</th>\n",
       "      <td>2002</td>\n",
       "      <td>European Union (28 countries)</td>\n",
       "      <td>5.00</td>\n",
       "    </tr>\n",
       "    <tr>\n",
       "      <th>3</th>\n",
       "      <td>2003</td>\n",
       "      <td>European Union (28 countries)</td>\n",
       "      <td>5.03</td>\n",
       "    </tr>\n",
       "    <tr>\n",
       "      <th>4</th>\n",
       "      <td>2004</td>\n",
       "      <td>European Union (28 countries)</td>\n",
       "      <td>4.95</td>\n",
       "    </tr>\n",
       "    <tr>\n",
       "      <th>5</th>\n",
       "      <td>2005</td>\n",
       "      <td>European Union (28 countries)</td>\n",
       "      <td>4.92</td>\n",
       "    </tr>\n",
       "    <tr>\n",
       "      <th>6</th>\n",
       "      <td>2006</td>\n",
       "      <td>European Union (28 countries)</td>\n",
       "      <td>4.91</td>\n",
       "    </tr>\n",
       "  </tbody>\n",
       "</table>\n",
       "</div>"
      ],
      "text/plain": [
       "   TIME                            GEO  Value\n",
       "2  2002  European Union (28 countries)   5.00\n",
       "3  2003  European Union (28 countries)   5.03\n",
       "4  2004  European Union (28 countries)   4.95\n",
       "5  2005  European Union (28 countries)   4.92\n",
       "6  2006  European Union (28 countries)   4.91"
      ]
     },
     "execution_count": 141,
     "metadata": {},
     "output_type": "execute_result"
    }
   ],
   "source": [
    "eduDrop = edu.dropna(how = 'any', subset = [\"Value\"])\n",
    "eduDrop.head()"
   ]
  },
  {
   "cell_type": "markdown",
   "id": "c6b2ed99-e0c2-4eed-a7b9-a9714f0e30da",
   "metadata": {},
   "source": [
    "If, instead of removing the rows containing NaN, we want to fill them with another value, then we can use the method fillna(), specifying which value has to be used. If we want to fill only some specific columns, we have to set as argument to the function fillna()a dictionary with the name of the columns as the key and which character to be used for filling as the value."
   ]
  },
  {
   "cell_type": "code",
   "execution_count": 142,
   "id": "f82abf4a-b810-4b5a-8483-8c06d90e1e9c",
   "metadata": {},
   "outputs": [
    {
     "data": {
      "text/html": [
       "<div>\n",
       "<style scoped>\n",
       "    .dataframe tbody tr th:only-of-type {\n",
       "        vertical-align: middle;\n",
       "    }\n",
       "\n",
       "    .dataframe tbody tr th {\n",
       "        vertical-align: top;\n",
       "    }\n",
       "\n",
       "    .dataframe thead th {\n",
       "        text-align: right;\n",
       "    }\n",
       "</style>\n",
       "<table border=\"1\" class=\"dataframe\">\n",
       "  <thead>\n",
       "    <tr style=\"text-align: right;\">\n",
       "      <th></th>\n",
       "      <th>TIME</th>\n",
       "      <th>GEO</th>\n",
       "      <th>Value</th>\n",
       "    </tr>\n",
       "  </thead>\n",
       "  <tbody>\n",
       "    <tr>\n",
       "      <th>0</th>\n",
       "      <td>2000</td>\n",
       "      <td>European Union (28 countries)</td>\n",
       "      <td>0.00</td>\n",
       "    </tr>\n",
       "    <tr>\n",
       "      <th>1</th>\n",
       "      <td>2001</td>\n",
       "      <td>European Union (28 countries)</td>\n",
       "      <td>0.00</td>\n",
       "    </tr>\n",
       "    <tr>\n",
       "      <th>2</th>\n",
       "      <td>2002</td>\n",
       "      <td>European Union (28 countries)</td>\n",
       "      <td>5.00</td>\n",
       "    </tr>\n",
       "    <tr>\n",
       "      <th>3</th>\n",
       "      <td>2003</td>\n",
       "      <td>European Union (28 countries)</td>\n",
       "      <td>5.03</td>\n",
       "    </tr>\n",
       "    <tr>\n",
       "      <th>4</th>\n",
       "      <td>2004</td>\n",
       "      <td>European Union (28 countries)</td>\n",
       "      <td>4.95</td>\n",
       "    </tr>\n",
       "  </tbody>\n",
       "</table>\n",
       "</div>"
      ],
      "text/plain": [
       "   TIME                            GEO  Value\n",
       "0  2000  European Union (28 countries)   0.00\n",
       "1  2001  European Union (28 countries)   0.00\n",
       "2  2002  European Union (28 countries)   5.00\n",
       "3  2003  European Union (28 countries)   5.03\n",
       "4  2004  European Union (28 countries)   4.95"
      ]
     },
     "execution_count": 142,
     "metadata": {},
     "output_type": "execute_result"
    }
   ],
   "source": [
    "eduFilled = edu.fillna(value = {\"Value\": 0})\n",
    "eduFilled.head()"
   ]
  },
  {
   "cell_type": "markdown",
   "id": "1f0b0563-5351-4d10-9eba-0ae20d259f4e",
   "metadata": {},
   "source": [
    "### 6.6  Sorting data\n",
    "\n",
    "Another important functionality we will need when inspecting our data is\n",
    "to sort by columns. We can sort a DataFrameusing any column, using the\n",
    "sort function. If we want to see the first five rows of data sorted in\n",
    "descending order (i.e., from the largest to the smallest values) and\n",
    "using the column Value, then we just need to do this:"
   ]
  },
  {
   "cell_type": "code",
   "execution_count": 143,
   "id": "207d9dc0-1c94-46eb-b44a-ada240338446",
   "metadata": {},
   "outputs": [
    {
     "data": {
      "text/html": [
       "<div>\n",
       "<style scoped>\n",
       "    .dataframe tbody tr th:only-of-type {\n",
       "        vertical-align: middle;\n",
       "    }\n",
       "\n",
       "    .dataframe tbody tr th {\n",
       "        vertical-align: top;\n",
       "    }\n",
       "\n",
       "    .dataframe thead th {\n",
       "        text-align: right;\n",
       "    }\n",
       "</style>\n",
       "<table border=\"1\" class=\"dataframe\">\n",
       "  <thead>\n",
       "    <tr style=\"text-align: right;\">\n",
       "      <th></th>\n",
       "      <th>TIME</th>\n",
       "      <th>GEO</th>\n",
       "      <th>Value</th>\n",
       "    </tr>\n",
       "  </thead>\n",
       "  <tbody>\n",
       "    <tr>\n",
       "      <th>130</th>\n",
       "      <td>2010</td>\n",
       "      <td>Denmark</td>\n",
       "      <td>8.81</td>\n",
       "    </tr>\n",
       "    <tr>\n",
       "      <th>131</th>\n",
       "      <td>2011</td>\n",
       "      <td>Denmark</td>\n",
       "      <td>8.75</td>\n",
       "    </tr>\n",
       "    <tr>\n",
       "      <th>129</th>\n",
       "      <td>2009</td>\n",
       "      <td>Denmark</td>\n",
       "      <td>8.74</td>\n",
       "    </tr>\n",
       "    <tr>\n",
       "      <th>121</th>\n",
       "      <td>2001</td>\n",
       "      <td>Denmark</td>\n",
       "      <td>8.44</td>\n",
       "    </tr>\n",
       "    <tr>\n",
       "      <th>122</th>\n",
       "      <td>2002</td>\n",
       "      <td>Denmark</td>\n",
       "      <td>8.44</td>\n",
       "    </tr>\n",
       "  </tbody>\n",
       "</table>\n",
       "</div>"
      ],
      "text/plain": [
       "     TIME      GEO  Value\n",
       "130  2010  Denmark   8.81\n",
       "131  2011  Denmark   8.75\n",
       "129  2009  Denmark   8.74\n",
       "121  2001  Denmark   8.44\n",
       "122  2002  Denmark   8.44"
      ]
     },
     "execution_count": 143,
     "metadata": {},
     "output_type": "execute_result"
    }
   ],
   "source": [
    "edu.sort_values(by = 'Value', ascending = False, inplace = True)\n",
    "edu.head()"
   ]
  },
  {
   "cell_type": "markdown",
   "id": "0fc3ce15-e244-4a0c-984c-c7ca2426556e",
   "metadata": {},
   "source": [
    "Note that the keyword inplacemeans that the DataFramewill be overwritten, and hence no new DataFrameis returned. If instead of ascending = Falsewe use ascending = True, the values are sorted in ascending order (i.e., from the smallest to the largest values).\n",
    "\n",
    "If we want to return to the original order, we can sort by an index using the function sort_indexand specifying axis=0:"
   ]
  },
  {
   "cell_type": "code",
   "execution_count": 144,
   "id": "736ce10f-429d-47cd-88dd-998358bd6423",
   "metadata": {},
   "outputs": [
    {
     "data": {
      "text/html": [
       "<div>\n",
       "<style scoped>\n",
       "    .dataframe tbody tr th:only-of-type {\n",
       "        vertical-align: middle;\n",
       "    }\n",
       "\n",
       "    .dataframe tbody tr th {\n",
       "        vertical-align: top;\n",
       "    }\n",
       "\n",
       "    .dataframe thead th {\n",
       "        text-align: right;\n",
       "    }\n",
       "</style>\n",
       "<table border=\"1\" class=\"dataframe\">\n",
       "  <thead>\n",
       "    <tr style=\"text-align: right;\">\n",
       "      <th></th>\n",
       "      <th>TIME</th>\n",
       "      <th>GEO</th>\n",
       "      <th>Value</th>\n",
       "    </tr>\n",
       "  </thead>\n",
       "  <tbody>\n",
       "    <tr>\n",
       "      <th>0</th>\n",
       "      <td>2000</td>\n",
       "      <td>European Union (28 countries)</td>\n",
       "      <td>NaN</td>\n",
       "    </tr>\n",
       "    <tr>\n",
       "      <th>1</th>\n",
       "      <td>2001</td>\n",
       "      <td>European Union (28 countries)</td>\n",
       "      <td>NaN</td>\n",
       "    </tr>\n",
       "    <tr>\n",
       "      <th>2</th>\n",
       "      <td>2002</td>\n",
       "      <td>European Union (28 countries)</td>\n",
       "      <td>5.00</td>\n",
       "    </tr>\n",
       "    <tr>\n",
       "      <th>3</th>\n",
       "      <td>2003</td>\n",
       "      <td>European Union (28 countries)</td>\n",
       "      <td>5.03</td>\n",
       "    </tr>\n",
       "    <tr>\n",
       "      <th>4</th>\n",
       "      <td>2004</td>\n",
       "      <td>European Union (28 countries)</td>\n",
       "      <td>4.95</td>\n",
       "    </tr>\n",
       "  </tbody>\n",
       "</table>\n",
       "</div>"
      ],
      "text/plain": [
       "   TIME                            GEO  Value\n",
       "0  2000  European Union (28 countries)    NaN\n",
       "1  2001  European Union (28 countries)    NaN\n",
       "2  2002  European Union (28 countries)   5.00\n",
       "3  2003  European Union (28 countries)   5.03\n",
       "4  2004  European Union (28 countries)   4.95"
      ]
     },
     "execution_count": 144,
     "metadata": {},
     "output_type": "execute_result"
    }
   ],
   "source": [
    "edu.sort_index(axis = 0, ascending = True, inplace = True)\n",
    "edu.head()"
   ]
  },
  {
   "cell_type": "markdown",
   "id": "01be20ca-e029-488b-84ad-6b99b381e582",
   "metadata": {},
   "source": [
    "### 6.7  Grouping data\n",
    "\n",
    "Another very useful way to inspect data is to group it according to some\n",
    "criteria. For instance, in our example it would be nice to group all the\n",
    "data by country, regardless of the year.\n",
    "\n",
    "Pandas has the function groupbythat allows us to do exactly this. The\n",
    "value returned by this function is a special grouped DataFrame. To have\n",
    "a proper DataFrameas a result, it is necessary to apply an aggregation\n",
    "function. Thus, this function will be applied to all the values in the\n",
    "same group.\n",
    "\n",
    "For example, in our case, if we want a DataFrameshowing the mean of the\n",
    "values for each country over all the years, we can obtain it by grouping\n",
    "according to country and using the function meanas the aggregation\n",
    "method for each group. The result would be a DataFramewith countries as\n",
    "indexes and the mean values as the column:"
   ]
  },
  {
   "cell_type": "code",
   "execution_count": 145,
   "id": "be358503-77c2-4ee6-86a2-302763862d95",
   "metadata": {},
   "outputs": [
    {
     "data": {
      "text/html": [
       "<div>\n",
       "<style scoped>\n",
       "    .dataframe tbody tr th:only-of-type {\n",
       "        vertical-align: middle;\n",
       "    }\n",
       "\n",
       "    .dataframe tbody tr th {\n",
       "        vertical-align: top;\n",
       "    }\n",
       "\n",
       "    .dataframe thead th {\n",
       "        text-align: right;\n",
       "    }\n",
       "</style>\n",
       "<table border=\"1\" class=\"dataframe\">\n",
       "  <thead>\n",
       "    <tr style=\"text-align: right;\">\n",
       "      <th></th>\n",
       "      <th>Value</th>\n",
       "    </tr>\n",
       "    <tr>\n",
       "      <th>GEO</th>\n",
       "      <th></th>\n",
       "    </tr>\n",
       "  </thead>\n",
       "  <tbody>\n",
       "    <tr>\n",
       "      <th>Austria</th>\n",
       "      <td>5.618333</td>\n",
       "    </tr>\n",
       "    <tr>\n",
       "      <th>Belgium</th>\n",
       "      <td>6.189091</td>\n",
       "    </tr>\n",
       "    <tr>\n",
       "      <th>Bulgaria</th>\n",
       "      <td>4.093333</td>\n",
       "    </tr>\n",
       "    <tr>\n",
       "      <th>Cyprus</th>\n",
       "      <td>7.023333</td>\n",
       "    </tr>\n",
       "    <tr>\n",
       "      <th>Czech Republic</th>\n",
       "      <td>4.168333</td>\n",
       "    </tr>\n",
       "  </tbody>\n",
       "</table>\n",
       "</div>"
      ],
      "text/plain": [
       "                   Value\n",
       "GEO                     \n",
       "Austria         5.618333\n",
       "Belgium         6.189091\n",
       "Bulgaria        4.093333\n",
       "Cyprus          7.023333\n",
       "Czech Republic  4.168333"
      ]
     },
     "execution_count": 145,
     "metadata": {},
     "output_type": "execute_result"
    }
   ],
   "source": [
    "group = edu[[\"GEO\", \"Value\"]].groupby('GEO').mean()\n",
    "group.head()"
   ]
  },
  {
   "cell_type": "markdown",
   "id": "4f45c183-ed56-4f01-b82a-1afff9ce453a",
   "metadata": {},
   "source": [
    "### 6.8  Rearranging data\n",
    "\n",
    "Up until now, our indexes have been just a numeration of rows without\n",
    "much meaning. We can transform the arrangement of our data,\n",
    "redistributing the indexes and columns for better manipulation of our\n",
    "data, which normally leads to better performance. We can rearrange our\n",
    "data using the function pivot_table. Here, we can specify which columns\n",
    "will be the new indexes, the new values, and the new columns.\n",
    "\n",
    "For example, imagine that we want to transform our DataFrameto a\n",
    "spreadsheet- like structure with the country names as the index, while\n",
    "the columns will be the years starting from 2006 and the values will be\n",
    "the previous Value column.\n",
    "\n",
    "To do this, first we need to filter out the data and then pivot it in\n",
    "this way:"
   ]
  },
  {
   "cell_type": "code",
   "execution_count": 146,
   "id": "f522432b-5690-4336-806d-5517c86e729f",
   "metadata": {},
   "outputs": [
    {
     "data": {
      "text/html": [
       "<div>\n",
       "<style scoped>\n",
       "    .dataframe tbody tr th:only-of-type {\n",
       "        vertical-align: middle;\n",
       "    }\n",
       "\n",
       "    .dataframe tbody tr th {\n",
       "        vertical-align: top;\n",
       "    }\n",
       "\n",
       "    .dataframe thead th {\n",
       "        text-align: right;\n",
       "    }\n",
       "</style>\n",
       "<table border=\"1\" class=\"dataframe\">\n",
       "  <thead>\n",
       "    <tr style=\"text-align: right;\">\n",
       "      <th>TIME</th>\n",
       "      <th>2006</th>\n",
       "      <th>2007</th>\n",
       "      <th>2008</th>\n",
       "      <th>2009</th>\n",
       "      <th>2010</th>\n",
       "      <th>2011</th>\n",
       "    </tr>\n",
       "    <tr>\n",
       "      <th>GEO</th>\n",
       "      <th></th>\n",
       "      <th></th>\n",
       "      <th></th>\n",
       "      <th></th>\n",
       "      <th></th>\n",
       "      <th></th>\n",
       "    </tr>\n",
       "  </thead>\n",
       "  <tbody>\n",
       "    <tr>\n",
       "      <th>Austria</th>\n",
       "      <td>5.40</td>\n",
       "      <td>5.33</td>\n",
       "      <td>5.47</td>\n",
       "      <td>5.98</td>\n",
       "      <td>5.91</td>\n",
       "      <td>5.80</td>\n",
       "    </tr>\n",
       "    <tr>\n",
       "      <th>Belgium</th>\n",
       "      <td>5.98</td>\n",
       "      <td>6.00</td>\n",
       "      <td>6.43</td>\n",
       "      <td>6.57</td>\n",
       "      <td>6.58</td>\n",
       "      <td>6.55</td>\n",
       "    </tr>\n",
       "    <tr>\n",
       "      <th>Bulgaria</th>\n",
       "      <td>4.04</td>\n",
       "      <td>3.88</td>\n",
       "      <td>4.44</td>\n",
       "      <td>4.58</td>\n",
       "      <td>4.10</td>\n",
       "      <td>3.82</td>\n",
       "    </tr>\n",
       "    <tr>\n",
       "      <th>Cyprus</th>\n",
       "      <td>7.02</td>\n",
       "      <td>6.95</td>\n",
       "      <td>7.45</td>\n",
       "      <td>7.98</td>\n",
       "      <td>7.92</td>\n",
       "      <td>7.87</td>\n",
       "    </tr>\n",
       "    <tr>\n",
       "      <th>Czech Republic</th>\n",
       "      <td>4.42</td>\n",
       "      <td>4.05</td>\n",
       "      <td>3.92</td>\n",
       "      <td>4.36</td>\n",
       "      <td>4.25</td>\n",
       "      <td>4.51</td>\n",
       "    </tr>\n",
       "  </tbody>\n",
       "</table>\n",
       "</div>"
      ],
      "text/plain": [
       "TIME            2006  2007  2008  2009  2010  2011\n",
       "GEO                                               \n",
       "Austria         5.40  5.33  5.47  5.98  5.91  5.80\n",
       "Belgium         5.98  6.00  6.43  6.57  6.58  6.55\n",
       "Bulgaria        4.04  3.88  4.44  4.58  4.10  3.82\n",
       "Cyprus          7.02  6.95  7.45  7.98  7.92  7.87\n",
       "Czech Republic  4.42  4.05  3.92  4.36  4.25  4.51"
      ]
     },
     "execution_count": 146,
     "metadata": {},
     "output_type": "execute_result"
    }
   ],
   "source": [
    "filtered_data = edu[edu[\"TIME\"] > 2005]\n",
    "pivedu = pd.pivot_table(filtered_data, values = 'Value', index = ['GEO'], columns = ['TIME'])\n",
    "pivedu.head()"
   ]
  },
  {
   "cell_type": "markdown",
   "id": "260811a1-101d-48dc-9302-80fe4f643e50",
   "metadata": {},
   "source": [
    "Now we can use the new index to select specific rows by label, using the loc operator:"
   ]
  },
  {
   "cell_type": "code",
   "execution_count": 147,
   "id": "f7cd3526-f38f-49b5-ac9b-8e108c6496ca",
   "metadata": {},
   "outputs": [
    {
     "data": {
      "text/html": [
       "<div>\n",
       "<style scoped>\n",
       "    .dataframe tbody tr th:only-of-type {\n",
       "        vertical-align: middle;\n",
       "    }\n",
       "\n",
       "    .dataframe tbody tr th {\n",
       "        vertical-align: top;\n",
       "    }\n",
       "\n",
       "    .dataframe thead th {\n",
       "        text-align: right;\n",
       "    }\n",
       "</style>\n",
       "<table border=\"1\" class=\"dataframe\">\n",
       "  <thead>\n",
       "    <tr style=\"text-align: right;\">\n",
       "      <th>TIME</th>\n",
       "      <th>2006</th>\n",
       "      <th>2011</th>\n",
       "    </tr>\n",
       "    <tr>\n",
       "      <th>GEO</th>\n",
       "      <th></th>\n",
       "      <th></th>\n",
       "    </tr>\n",
       "  </thead>\n",
       "  <tbody>\n",
       "    <tr>\n",
       "      <th>Spain</th>\n",
       "      <td>4.26</td>\n",
       "      <td>4.82</td>\n",
       "    </tr>\n",
       "    <tr>\n",
       "      <th>Portugal</th>\n",
       "      <td>5.07</td>\n",
       "      <td>5.27</td>\n",
       "    </tr>\n",
       "  </tbody>\n",
       "</table>\n",
       "</div>"
      ],
      "text/plain": [
       "TIME      2006  2011\n",
       "GEO                 \n",
       "Spain     4.26  4.82\n",
       "Portugal  5.07  5.27"
      ]
     },
     "execution_count": 147,
     "metadata": {},
     "output_type": "execute_result"
    }
   ],
   "source": [
    "pivedu.loc[['Spain','Portugal'], [2006,2011]]"
   ]
  },
  {
   "cell_type": "markdown",
   "id": "231f2dbd-24ef-43b0-9860-be8bf29a9ecd",
   "metadata": {},
   "source": [
    "Pivot also offers the option of providing an argument aggr_functionthat allows to perform an aggregation function between the values if there is more than one value for the given row and column after the transformation. As usual, you can design any custom function you want, just giving its name or using a λ-function."
   ]
  },
  {
   "cell_type": "markdown",
   "id": "618e6a15-0f2a-428a-b8f0-96f142a38918",
   "metadata": {},
   "source": [
    "### 6.9  Ranking data\n",
    "\n",
    "Another useful visualization feature is to rank data. For example, we\n",
    "would like to know how each country is ranked by year.\n",
    "\n",
    "To see this, we will use the Pandas functionrank. But first, we need to\n",
    "clean up our previous pivoted table a bit so that it only has real\n",
    "countries with real data. To do this, first we drop the Euro area\n",
    "entries and shorten the Germany name entry, using the rename function\n",
    "and then we drop all the rows containing any NaN, using the function\n",
    "dropna.\n",
    "\n",
    "Now we can perform the ranking using the function rank.\n",
    "\n",
    "The Pandas function ranksupports different tie-breaking methods, specified with the method parameter. In our case, we use the first method, in which ranks are assigned in the order they appear in the array, avoiding gaps between ranking."
   ]
  },
  {
   "cell_type": "code",
   "execution_count": 148,
   "id": "9226c1d9-d34f-43a4-b356-d430c7b0a8ae",
   "metadata": {},
   "outputs": [
    {
     "data": {
      "text/html": [
       "<div>\n",
       "<style scoped>\n",
       "    .dataframe tbody tr th:only-of-type {\n",
       "        vertical-align: middle;\n",
       "    }\n",
       "\n",
       "    .dataframe tbody tr th {\n",
       "        vertical-align: top;\n",
       "    }\n",
       "\n",
       "    .dataframe thead th {\n",
       "        text-align: right;\n",
       "    }\n",
       "</style>\n",
       "<table border=\"1\" class=\"dataframe\">\n",
       "  <thead>\n",
       "    <tr style=\"text-align: right;\">\n",
       "      <th>TIME</th>\n",
       "      <th>2006</th>\n",
       "      <th>2007</th>\n",
       "      <th>2008</th>\n",
       "      <th>2009</th>\n",
       "      <th>2010</th>\n",
       "      <th>2011</th>\n",
       "    </tr>\n",
       "    <tr>\n",
       "      <th>GEO</th>\n",
       "      <th></th>\n",
       "      <th></th>\n",
       "      <th></th>\n",
       "      <th></th>\n",
       "      <th></th>\n",
       "      <th></th>\n",
       "    </tr>\n",
       "  </thead>\n",
       "  <tbody>\n",
       "    <tr>\n",
       "      <th>Austria</th>\n",
       "      <td>10.0</td>\n",
       "      <td>7.0</td>\n",
       "      <td>11.0</td>\n",
       "      <td>7.0</td>\n",
       "      <td>8.0</td>\n",
       "      <td>8.0</td>\n",
       "    </tr>\n",
       "    <tr>\n",
       "      <th>Belgium</th>\n",
       "      <td>5.0</td>\n",
       "      <td>4.0</td>\n",
       "      <td>3.0</td>\n",
       "      <td>4.0</td>\n",
       "      <td>5.0</td>\n",
       "      <td>5.0</td>\n",
       "    </tr>\n",
       "    <tr>\n",
       "      <th>Bulgaria</th>\n",
       "      <td>21.0</td>\n",
       "      <td>21.0</td>\n",
       "      <td>20.0</td>\n",
       "      <td>20.0</td>\n",
       "      <td>22.0</td>\n",
       "      <td>22.0</td>\n",
       "    </tr>\n",
       "    <tr>\n",
       "      <th>Cyprus</th>\n",
       "      <td>2.0</td>\n",
       "      <td>2.0</td>\n",
       "      <td>2.0</td>\n",
       "      <td>2.0</td>\n",
       "      <td>2.0</td>\n",
       "      <td>3.0</td>\n",
       "    </tr>\n",
       "    <tr>\n",
       "      <th>Czech Republic</th>\n",
       "      <td>19.0</td>\n",
       "      <td>20.0</td>\n",
       "      <td>21.0</td>\n",
       "      <td>21.0</td>\n",
       "      <td>20.0</td>\n",
       "      <td>19.0</td>\n",
       "    </tr>\n",
       "  </tbody>\n",
       "</table>\n",
       "</div>"
      ],
      "text/plain": [
       "TIME            2006  2007  2008  2009  2010  2011\n",
       "GEO                                               \n",
       "Austria         10.0   7.0  11.0   7.0   8.0   8.0\n",
       "Belgium          5.0   4.0   3.0   4.0   5.0   5.0\n",
       "Bulgaria        21.0  21.0  20.0  20.0  22.0  22.0\n",
       "Cyprus           2.0   2.0   2.0   2.0   2.0   3.0\n",
       "Czech Republic  19.0  20.0  21.0  21.0  20.0  19.0"
      ]
     },
     "execution_count": 148,
     "metadata": {},
     "output_type": "execute_result"
    }
   ],
   "source": [
    "pivedu = pivedu.drop(['Euro area (13 countries)',\n",
    "                      'Euro area (15 countries)',\n",
    "                      'Euro area (17 countries)',\n",
    "                      'Euro area (18 countries)',\n",
    "                      'European Union (25 countries)',\n",
    "                      'European Union (27 countries)',\n",
    "                      'European Union (28 countries)'\n",
    "                      ], axis=0)\n",
    "pivedu = pivedu.rename(\n",
    "    index={'Germany (until 1990 former territory of the FRG)': 'Germany'})\n",
    "pivedu = pivedu.dropna()\n",
    "pivedu.rank(ascending=False, method='first').head()"
   ]
  },
  {
   "cell_type": "markdown",
   "id": "fe8eb729-2a20-4546-8261-eaca7e786802",
   "metadata": {},
   "source": [
    "### Question 7.  \n",
    "What do you observe regarding the parameter ascending=False?\n",
    "\n",
    "**Answer:** When the parameter `ascending=False`, each column is not ranked in an **ascending** order. Instead, it is ranked in a **descending** order. "
   ]
  },
  {
   "cell_type": "markdown",
   "id": "1be42ccc-8d11-433f-b2f8-35861ee09c5f",
   "metadata": {},
   "source": [
    "If we want to make a global ranking considering all the years, we can sum up all the columns and rank the result. Then we can sort the resulting values to retrieve the top five countries for the last 6 years, in this way:"
   ]
  },
  {
   "cell_type": "code",
   "execution_count": 149,
   "id": "abeaded1-ac16-49ee-95a8-7cdc011ebc2f",
   "metadata": {},
   "outputs": [
    {
     "data": {
      "text/plain": [
       "GEO\n",
       "Denmark    1.0\n",
       "Cyprus     2.0\n",
       "Finland    3.0\n",
       "Malta      4.0\n",
       "Belgium    5.0\n",
       "dtype: float64"
      ]
     },
     "execution_count": 149,
     "metadata": {},
     "output_type": "execute_result"
    }
   ],
   "source": [
    "totalSum = pivedu.sum(axis = 1)\n",
    "\n",
    "totalSum.rank(ascending = False, method = 'dense').sort_values().head()"
   ]
  },
  {
   "cell_type": "markdown",
   "id": "7b2c6f8c-cd58-480a-bc48-9bf623473259",
   "metadata": {},
   "source": [
    "Note that the method keyword argument in the in the function rank specifies how items that compare equals receive ranking. In the case of dense, items that compare equals receive the same ranking number, and the next not equal item receives the immediately following ranking number."
   ]
  },
  {
   "cell_type": "markdown",
   "id": "70e4ced8-566d-4c05-8dee-c29c35cc9459",
   "metadata": {},
   "source": [
    "### 7.1  Plotting data\n",
    "\n",
    "Pandas DataFramesand Seriescan be plotted using the function plot, which\n",
    "uses the library for graphics Matplotlib. For example, if we want to\n",
    "plot the accumulated values for each country over the last 6 years, we\n",
    "can take the Seriesobtained in the previous example and plot it directly\n",
    "by calling the plot function as shown in the next cell:"
   ]
  },
  {
   "cell_type": "code",
   "execution_count": 150,
   "id": "78981bb0-29d8-4851-8a50-6bffe6268b8d",
   "metadata": {},
   "outputs": [
    {
     "data": {
      "text/plain": [
       "<AxesSubplot:title={'center':'Total Values for Country'}, xlabel='GEO'>"
      ]
     },
     "execution_count": 150,
     "metadata": {},
     "output_type": "execute_result"
    },
    {
     "data": {
      "image/png": "[encoded data removed]",
      "text/plain": [
       "<Figure size 640x480 with 1 Axes>"
      ]
     },
     "metadata": {},
     "output_type": "display_data"
    }
   ],
   "source": [
    "totalSum = pivedu.sum(axis = 1).sort_values(ascending = False)\n",
    "totalSum.plot(kind = 'bar', style = 'b', alpha = 0.4,\n",
    "              title = \"Total Values for Country\")"
   ]
  },
  {
   "cell_type": "markdown",
   "id": "f1f2bda3-831c-4085-8b6e-2cf251ea1b39",
   "metadata": {},
   "source": [
    "Note that if we want the bars ordered from the highest to the lowest value, we need to sort the values in theSeriesfirst. The parameter kind used in the function plotdefines which kind of graphic will be used.\n",
    "\n",
    "In our case, a bar graph. The parameter style refers to the style properties of the graphic, in our case, the color of bars is set to b (blue). The alpha channel can be modified adding a keyword parameter alpha with a percentage, producing a more translucent plot. Finally, using the title keyword the name of the graphic can be set.\n",
    "\n",
    "It is also possible to plot a DataFramedirectly. In this case, each column is treated as a separated Series. For example, instead of printing the accumulated value over the years, we can plot the value for each year."
   ]
  },
  {
   "cell_type": "code",
   "execution_count": 151,
   "id": "40aa17a7-224c-4e0c-b3c3-e14b53919be5",
   "metadata": {},
   "outputs": [
    {
     "data": {
      "image/png": "[encoded data removed]",
      "text/plain": [
       "<Figure size 1200x600 with 1 Axes>"
      ]
     },
     "metadata": {},
     "output_type": "display_data"
    }
   ],
   "source": [
    "my_colors = ['b', 'r', 'g', 'y', 'm', 'c', 'darkorange', 'mediumorchid', 'springgreen', 'sienna', 'tan', 'gold']\n",
    "ax = pivedu.plot(kind='barh', stacked=True, color=my_colors, figsize=(12, 6))\n",
    "ax.legend(loc='center left', bbox_to_anchor=(1, 0.5))\n",
    "plt.savefig('Value_Time_Country.png', dpi=300, bbox_inches='tight')"
   ]
  },
  {
   "cell_type": "markdown",
   "id": "aff689f8-a5ad-47b6-8a6f-05c043c92d9a",
   "metadata": {},
   "source": [
    "In this case, we have used a horizontal bar graph (kind=’barh’) stacking all the years in the same country bar. This can be done by setting the parameter stackedto True.\n",
    "\n",
    "The number of default colors in a plot is only 5, thus if you have more than 5 Series to show, you need to specify more colors or otherwise the same set of colors will be used again. We can set a new set of colors using the keyword colorwith a list of colors.\n",
    "\n",
    "Basic colors have a single-character code assigned to each, for example, “b” is for blue, “r” for red, “g” for green, “y” for yellow, “m” for magenta, and “c” for cyan. When several Series are shown in a plot, a legend is created for identifying each one. The name for each Series is the name of the column in the DataFrame. By default, the legend goes inside the plot area.\n",
    "\n",
    "If we want to change this, we can use the legend function of the axis object (this is the object returned when the plot function is called). By using the keyword loc, we can set the relative position of the legend with respect to the plot. It can be a combination of right or left and upper, lower, or center. With bbox_to_anchor we can set an absolute position with respect to the plot, allowing to put the legend outside the graph."
   ]
  },
  {
   "cell_type": "markdown",
   "id": "0b68ea8d-eac6-4f84-9d59-c0d99680751d",
   "metadata": {},
   "source": [
    "## Follow-up Questions"
   ]
  },
  {
   "cell_type": "markdown",
   "id": "202c9758-6ab9-4fed-b768-cc855345c65e",
   "metadata": {},
   "source": [
    "### Question 8.  \n",
    "Explain and justify the imputation of missing values in the dataset.\n",
    "\n",
    "**Answer:** As seen below, the `Value` column has 23 missing values which constitutes approximately 6% of the dataset. This means we can replace these missing values with a suitable one and it won't cause a big impact in the results. In the notebook, the value **0** was imputed.  \n",
    "\n",
    "However, since the column contains numerical data, we can consider other alternatives such as the column's mean value. This will produced a more balanced result compared to setting those values to 0. "
   ]
  },
  {
   "cell_type": "code",
   "execution_count": 152,
   "id": "d4270b28-acea-495d-8bcf-e1379d263ebb",
   "metadata": {},
   "outputs": [
    {
     "data": {
      "text/plain": [
       "TIME      0\n",
       "GEO       0\n",
       "Value    23\n",
       "dtype: int64"
      ]
     },
     "execution_count": 152,
     "metadata": {},
     "output_type": "execute_result"
    }
   ],
   "source": [
    "edu.isnull().sum()"
   ]
  },
  {
   "cell_type": "markdown",
   "id": "4726f0c9-f95e-4e72-8d8b-f9ff98881eca",
   "metadata": {},
   "source": [
    "### Question 9.  \n",
    "Discuss to which extent the results answer the research questions shown in the image below.  \n",
    "![Research Question](research_question.jpg)  \n",
    "\n",
    "**Answer:** The final 2 plots at the end of the notebook are only implemented for the years 2006-2011. This is smaller than the targeted research interval. As such, we adjust the code as shown below to include the desired interval of 2000-2011.  \n",
    "\n",
    "The first plot adequately answers the first research question by showing the total sum of investment on education between all countries and ranking them in a descending order. As seen from the plot, Denmark spends the highest amount on education while Slovakia spends the least. \n",
    "\n",
    "Similarly, the second plot shows a comparison of the annual investment of each country in a graphical manner which answers the second research question. It can be observed that the annual investment of most countries are fairly similar with the exception of some countries such as Denmark, Czech Republic, Bulgaria, Slovakia. \n"
   ]
  },
  {
   "cell_type": "code",
   "execution_count": 153,
   "id": "5047dad0-b983-447f-b15e-be3f7b2ed8de",
   "metadata": {},
   "outputs": [
    {
     "data": {
      "image/png": "[encoded data removed]",
      "text/plain": [
       "<Figure size 640x480 with 1 Axes>"
      ]
     },
     "metadata": {},
     "output_type": "display_data"
    },
    {
     "data": {
      "image/png": "[encoded data removed]",
      "text/plain": [
       "<Figure size 1200x600 with 1 Axes>"
      ]
     },
     "metadata": {},
     "output_type": "display_data"
    }
   ],
   "source": [
    "# Creating a new pivot table using all the years available in the dataset i.e. 2000 - 2011\n",
    "new_filtered_data = edu\n",
    "new_pivedu = pd.pivot_table(new_filtered_data, values = 'Value', index = ['GEO'], columns = ['TIME'])\n",
    "\n",
    "# Removing the Euro area variables and renaming Germany \n",
    "new_pivedu = new_pivedu.drop(['Euro area (13 countries)',\n",
    "                      'Euro area (15 countries)',\n",
    "                      'Euro area (17 countries)',\n",
    "                      'Euro area (18 countries)',\n",
    "                      'European Union (25 countries)',\n",
    "                      'European Union (27 countries)',\n",
    "                      'European Union (28 countries)'\n",
    "                      ], axis=0)\n",
    "new_pivedu = new_pivedu.rename(index={'Germany (until 1990 former territory of the FRG)': 'Germany'})\n",
    "# Dropping all the missing values\n",
    "new_pivedu = new_pivedu.dropna()\n",
    "\n",
    "# Obtaining and plotting the total sum of investments from all countries in a descending order\n",
    "new_totalSum = new_pivedu.sum(axis = 1).sort_values(ascending = False)\n",
    "new_totalSum.plot(kind = 'bar', style = 'b', alpha = 0.4, title = \"Total sum of investments for countries (2000-2011)\")\n",
    "\n",
    "# Obtaining and plotting the investments per year of each country\n",
    "my_colors = ['b', 'r', 'g', 'y', 'm', 'c', 'darkorange', 'mediumorchid', 'springgreen', 'sienna', 'tan', 'gold']\n",
    "ax = new_pivedu.plot(kind='barh', stacked=True, color=my_colors, figsize=(12, 6))\n",
    "ax.legend(loc='center left', bbox_to_anchor=(1, 0.5))\n",
    "plt.savefig('Value_Time_Country.png', dpi=300, bbox_inches='tight')"
   ]
  },
  {
   "cell_type": "markdown",
   "id": "09d6dc91-fa81-4605-b621-25572fd745a3",
   "metadata": {},
   "source": [
    "### Question 10.  \n",
    "Draw the pipeline implemented by the notebook to solve the problem.\n",
    "\n",
    "**Answer:** the methodology employed by the notebook is described in the chart below.  \n",
    "![Pipeline](pipeline.png)"
   ]
  }
 ],
 "metadata": {
  "kernelspec": {
   "display_name": "Python 3 (ipykernel)",
   "language": "python",
   "name": "python3"
  },
  "language_info": {
   "codemirror_mode": {
    "name": "ipython",
    "version": 3
   },
   "file_extension": ".py",
   "mimetype": "text/x-python",
   "name": "python",
   "nbconvert_exporter": "python",
   "pygments_lexer": "ipython3",
   "version": "3.9.15"
  }
 },
 "nbformat": 4,
 "nbformat_minor": 5
}
